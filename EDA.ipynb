{
 "cells": [
  {
   "cell_type": "markdown",
   "metadata": {},
   "source": [
    "# 🧼 Limpieza del set de datos 🧼"
   ]
  },
  {
   "cell_type": "markdown",
   "metadata": {},
   "source": [
    "Primero, vamos a extraer las columnas que nos interesan para nuestro análisis."
   ]
  },
  {
   "cell_type": "code",
   "execution_count": 1,
   "metadata": {},
   "outputs": [],
   "source": [
    "import pandas as pd\n",
    "import numpy as np\n",
    "import warnings\n",
    "warnings.filterwarnings(\"ignore\")\n",
    "\n",
    "raw_df = pd.read_csv(\"files/hr_raw_data.csv\", index_col=0)\n",
    "\n",
    "pd.set_option(\"display.max_columns\", None)"
   ]
  },
  {
   "cell_type": "code",
   "execution_count": 2,
   "metadata": {},
   "outputs": [
    {
     "data": {
      "text/html": [
       "<div>\n",
       "<style scoped>\n",
       "    .dataframe tbody tr th:only-of-type {\n",
       "        vertical-align: middle;\n",
       "    }\n",
       "\n",
       "    .dataframe tbody tr th {\n",
       "        vertical-align: top;\n",
       "    }\n",
       "\n",
       "    .dataframe thead th {\n",
       "        text-align: right;\n",
       "    }\n",
       "</style>\n",
       "<table border=\"1\" class=\"dataframe\">\n",
       "  <thead>\n",
       "    <tr style=\"text-align: right;\">\n",
       "      <th></th>\n",
       "      <th>age</th>\n",
       "      <th>attrition</th>\n",
       "      <th>businesstravel</th>\n",
       "      <th>dailyrate</th>\n",
       "      <th>department</th>\n",
       "      <th>distancefromhome</th>\n",
       "      <th>education</th>\n",
       "      <th>educationfield</th>\n",
       "      <th>employeecount</th>\n",
       "      <th>employeenumber</th>\n",
       "      <th>environmentsatisfaction</th>\n",
       "      <th>gender</th>\n",
       "      <th>hourlyrate</th>\n",
       "      <th>jobinvolvement</th>\n",
       "      <th>joblevel</th>\n",
       "      <th>jobrole</th>\n",
       "      <th>jobsatisfaction</th>\n",
       "      <th>maritalstatus</th>\n",
       "      <th>monthlyincome</th>\n",
       "      <th>monthlyrate</th>\n",
       "      <th>numcompaniesworked</th>\n",
       "      <th>over18</th>\n",
       "      <th>overtime</th>\n",
       "      <th>percentsalaryhike</th>\n",
       "      <th>performancerating</th>\n",
       "      <th>relationshipsatisfaction</th>\n",
       "      <th>standardhours</th>\n",
       "      <th>stockoptionlevel</th>\n",
       "      <th>totalworkingyears</th>\n",
       "      <th>trainingtimeslastyear</th>\n",
       "      <th>worklifebalance</th>\n",
       "      <th>yearsatcompany</th>\n",
       "      <th>yearsincurrentrole</th>\n",
       "      <th>yearssincelastpromotion</th>\n",
       "      <th>yearswithcurrmanager</th>\n",
       "      <th>sameasmonthlyincome</th>\n",
       "      <th>datebirth</th>\n",
       "      <th>salary</th>\n",
       "      <th>roledepartament</th>\n",
       "      <th>numberchildren</th>\n",
       "      <th>remotework</th>\n",
       "    </tr>\n",
       "  </thead>\n",
       "  <tbody>\n",
       "    <tr>\n",
       "      <th>0</th>\n",
       "      <td>51</td>\n",
       "      <td>No</td>\n",
       "      <td>NaN</td>\n",
       "      <td>2015.722222</td>\n",
       "      <td>NaN</td>\n",
       "      <td>6</td>\n",
       "      <td>3</td>\n",
       "      <td>NaN</td>\n",
       "      <td>1</td>\n",
       "      <td>1</td>\n",
       "      <td>1</td>\n",
       "      <td>0</td>\n",
       "      <td>NaN</td>\n",
       "      <td>3</td>\n",
       "      <td>5</td>\n",
       "      <td>resEArch DIREcToR</td>\n",
       "      <td>3</td>\n",
       "      <td>NaN</td>\n",
       "      <td>16280,83$</td>\n",
       "      <td>42330,17$</td>\n",
       "      <td>7</td>\n",
       "      <td>Y</td>\n",
       "      <td>No</td>\n",
       "      <td>13</td>\n",
       "      <td>3,0</td>\n",
       "      <td>3</td>\n",
       "      <td>Full Time</td>\n",
       "      <td>0</td>\n",
       "      <td>NaN</td>\n",
       "      <td>5</td>\n",
       "      <td>3,0</td>\n",
       "      <td>20</td>\n",
       "      <td>NaN</td>\n",
       "      <td>15</td>\n",
       "      <td>15</td>\n",
       "      <td>16280,83$</td>\n",
       "      <td>1972</td>\n",
       "      <td>195370,00$</td>\n",
       "      <td>NaN</td>\n",
       "      <td>NaN</td>\n",
       "      <td>Yes</td>\n",
       "    </tr>\n",
       "    <tr>\n",
       "      <th>1</th>\n",
       "      <td>52</td>\n",
       "      <td>No</td>\n",
       "      <td>NaN</td>\n",
       "      <td>2063.388889</td>\n",
       "      <td>NaN</td>\n",
       "      <td>1</td>\n",
       "      <td>4</td>\n",
       "      <td>Life Sciences</td>\n",
       "      <td>1</td>\n",
       "      <td>2</td>\n",
       "      <td>3</td>\n",
       "      <td>0</td>\n",
       "      <td>NaN</td>\n",
       "      <td>2</td>\n",
       "      <td>5</td>\n",
       "      <td>ManAGeR</td>\n",
       "      <td>3</td>\n",
       "      <td>NaN</td>\n",
       "      <td>NaN</td>\n",
       "      <td>43331,17$</td>\n",
       "      <td>0</td>\n",
       "      <td>NaN</td>\n",
       "      <td>NaN</td>\n",
       "      <td>14</td>\n",
       "      <td>3,0</td>\n",
       "      <td>1</td>\n",
       "      <td>NaN</td>\n",
       "      <td>1</td>\n",
       "      <td>34,0</td>\n",
       "      <td>5</td>\n",
       "      <td>3,0</td>\n",
       "      <td>33</td>\n",
       "      <td>NaN</td>\n",
       "      <td>11</td>\n",
       "      <td>9</td>\n",
       "      <td>NaN</td>\n",
       "      <td>1971</td>\n",
       "      <td>199990,00$</td>\n",
       "      <td>NaN</td>\n",
       "      <td>NaN</td>\n",
       "      <td>1</td>\n",
       "    </tr>\n",
       "    <tr>\n",
       "      <th>2</th>\n",
       "      <td>42</td>\n",
       "      <td>No</td>\n",
       "      <td>travel_rarely</td>\n",
       "      <td>1984.253968</td>\n",
       "      <td>Research &amp; Development</td>\n",
       "      <td>4</td>\n",
       "      <td>2</td>\n",
       "      <td>Technical Degree</td>\n",
       "      <td>1</td>\n",
       "      <td>3</td>\n",
       "      <td>3</td>\n",
       "      <td>0</td>\n",
       "      <td>NaN</td>\n",
       "      <td>3</td>\n",
       "      <td>5</td>\n",
       "      <td>ManaGER</td>\n",
       "      <td>4</td>\n",
       "      <td>Married</td>\n",
       "      <td>NaN</td>\n",
       "      <td>41669,33$</td>\n",
       "      <td>1</td>\n",
       "      <td>NaN</td>\n",
       "      <td>No</td>\n",
       "      <td>11</td>\n",
       "      <td>3,0</td>\n",
       "      <td>4</td>\n",
       "      <td>NaN</td>\n",
       "      <td>0</td>\n",
       "      <td>22,0</td>\n",
       "      <td>3</td>\n",
       "      <td>NaN</td>\n",
       "      <td>22</td>\n",
       "      <td>NaN</td>\n",
       "      <td>11</td>\n",
       "      <td>15</td>\n",
       "      <td>NaN</td>\n",
       "      <td>1981</td>\n",
       "      <td>192320,00$</td>\n",
       "      <td>ManaGER  -  Research &amp; Development</td>\n",
       "      <td>NaN</td>\n",
       "      <td>1</td>\n",
       "    </tr>\n",
       "  </tbody>\n",
       "</table>\n",
       "</div>"
      ],
      "text/plain": [
       "  age attrition businesstravel    dailyrate                department  \\\n",
       "0  51        No            NaN  2015.722222                       NaN   \n",
       "1  52        No            NaN  2063.388889                       NaN   \n",
       "2  42        No  travel_rarely  1984.253968   Research & Development    \n",
       "\n",
       "   distancefromhome  education    educationfield  employeecount  \\\n",
       "0                 6          3               NaN              1   \n",
       "1                 1          4     Life Sciences              1   \n",
       "2                 4          2  Technical Degree              1   \n",
       "\n",
       "   employeenumber  environmentsatisfaction  gender  hourlyrate  \\\n",
       "0               1                        1       0         NaN   \n",
       "1               2                        3       0         NaN   \n",
       "2               3                        3       0         NaN   \n",
       "\n",
       "   jobinvolvement  joblevel              jobrole  jobsatisfaction  \\\n",
       "0               3         5   resEArch DIREcToR                 3   \n",
       "1               2         5             ManAGeR                 3   \n",
       "2               3         5             ManaGER                 4   \n",
       "\n",
       "  maritalstatus monthlyincome monthlyrate  numcompaniesworked over18 overtime  \\\n",
       "0           NaN     16280,83$   42330,17$                   7      Y       No   \n",
       "1           NaN           NaN   43331,17$                   0    NaN      NaN   \n",
       "2       Married           NaN   41669,33$                   1    NaN       No   \n",
       "\n",
       "   percentsalaryhike performancerating  relationshipsatisfaction  \\\n",
       "0                 13               3,0                         3   \n",
       "1                 14               3,0                         1   \n",
       "2                 11               3,0                         4   \n",
       "\n",
       "  standardhours  stockoptionlevel totalworkingyears  trainingtimeslastyear  \\\n",
       "0     Full Time                 0               NaN                      5   \n",
       "1           NaN                 1              34,0                      5   \n",
       "2           NaN                 0              22,0                      3   \n",
       "\n",
       "  worklifebalance  yearsatcompany yearsincurrentrole  yearssincelastpromotion  \\\n",
       "0             3,0              20                NaN                       15   \n",
       "1             3,0              33                NaN                       11   \n",
       "2             NaN              22                NaN                       11   \n",
       "\n",
       "   yearswithcurrmanager sameasmonthlyincome  datebirth      salary  \\\n",
       "0                    15           16280,83$       1972  195370,00$   \n",
       "1                     9                 NaN       1971  199990,00$   \n",
       "2                    15                 NaN       1981  192320,00$   \n",
       "\n",
       "                        roledepartament  numberchildren remotework  \n",
       "0                                   NaN             NaN        Yes  \n",
       "1                                   NaN             NaN          1  \n",
       "2   ManaGER  -  Research & Development              NaN          1  "
      ]
     },
     "execution_count": 2,
     "metadata": {},
     "output_type": "execute_result"
    }
   ],
   "source": [
    "raw_df.head(3)"
   ]
  },
  {
   "cell_type": "code",
   "execution_count": 3,
   "metadata": {},
   "outputs": [
    {
     "data": {
      "text/plain": [
       "Index(['age', 'attrition', 'businesstravel', 'dailyrate', 'department',\n",
       "       'distancefromhome', 'education', 'educationfield', 'employeecount',\n",
       "       'employeenumber', 'environmentsatisfaction', 'gender', 'hourlyrate',\n",
       "       'jobinvolvement', 'joblevel', 'jobrole', 'jobsatisfaction',\n",
       "       'maritalstatus', 'monthlyincome', 'monthlyrate', 'numcompaniesworked',\n",
       "       'over18', 'overtime', 'percentsalaryhike', 'performancerating',\n",
       "       'relationshipsatisfaction', 'standardhours', 'stockoptionlevel',\n",
       "       'totalworkingyears', 'trainingtimeslastyear', 'worklifebalance',\n",
       "       'yearsatcompany', 'yearsincurrentrole', 'yearssincelastpromotion',\n",
       "       'yearswithcurrmanager', 'sameasmonthlyincome', 'datebirth', 'salary',\n",
       "       'roledepartament', 'numberchildren', 'remotework'],\n",
       "      dtype='object')"
      ]
     },
     "execution_count": 3,
     "metadata": {},
     "output_type": "execute_result"
    }
   ],
   "source": [
    "raw_df.columns"
   ]
  },
  {
   "cell_type": "markdown",
   "metadata": {},
   "source": [
    "Columna jobrole: \n",
    "\n",
    "Sales Executive               381\n",
    "\n",
    "Research Scientist            325\n",
    "\n",
    "Laboratory Technician         289\n",
    "\n",
    "Manufacturing Director        168\n",
    "\n",
    "Healthcare Representative     155\n",
    "\n",
    "Manager                       115\n",
    "\n",
    "Sales Representative           96\n",
    "\n",
    "Research Director              90\n",
    "\n",
    "Human Resources                59"
   ]
  },
  {
   "cell_type": "code",
   "execution_count": 4,
   "metadata": {},
   "outputs": [],
   "source": [
    "import matplotlib.pyplot as plt\n",
    "import seaborn as sns"
   ]
  },
  {
   "cell_type": "code",
   "execution_count": 5,
   "metadata": {},
   "outputs": [
    {
     "data": {
      "text/plain": [
       "<Axes: xlabel='yearswithcurrmanager', ylabel='yearssincelastpromotion'>"
      ]
     },
     "execution_count": 5,
     "metadata": {},
     "output_type": "execute_result"
    },
    {
     "data": {
      "image/png": "[encoded data removed]",
      "text/plain": [
       "<Figure size 640x480 with 1 Axes>"
      ]
     },
     "metadata": {},
     "output_type": "display_data"
    }
   ],
   "source": [
    "sns.regplot(x= 'yearswithcurrmanager',\n",
    "                y = 'yearssincelastpromotion', \n",
    "                data = raw_df)"
   ]
  },
  {
   "cell_type": "code",
   "execution_count": 6,
   "metadata": {},
   "outputs": [],
   "source": [
    "df = pd.DataFrame()\n",
    "\n",
    "columns_to_import = [\"employeenumber\",\"datebirth\", \"remotework\", \"education\", \"gender\", \"stockoptionlevel\", \n",
    "                     \"percentsalaryhike\", \"salary\", \"monthlyincome\", \"joblevel\", \"jobrole\", \"relationshipsatisfaction\", \n",
    "                     \"environmentsatisfaction\", \"jobsatisfaction\", \"yearssincelastpromotion\", \"yearswithcurrmanager\"]\n",
    "\n",
    "for col in columns_to_import:\n",
    "    df[col] = raw_df[col] "
   ]
  },
  {
   "cell_type": "code",
   "execution_count": 7,
   "metadata": {},
   "outputs": [
    {
     "data": {
      "text/html": [
       "<div>\n",
       "<style scoped>\n",
       "    .dataframe tbody tr th:only-of-type {\n",
       "        vertical-align: middle;\n",
       "    }\n",
       "\n",
       "    .dataframe tbody tr th {\n",
       "        vertical-align: top;\n",
       "    }\n",
       "\n",
       "    .dataframe thead th {\n",
       "        text-align: right;\n",
       "    }\n",
       "</style>\n",
       "<table border=\"1\" class=\"dataframe\">\n",
       "  <thead>\n",
       "    <tr style=\"text-align: right;\">\n",
       "      <th></th>\n",
       "      <th>employeenumber</th>\n",
       "      <th>datebirth</th>\n",
       "      <th>remotework</th>\n",
       "      <th>education</th>\n",
       "      <th>gender</th>\n",
       "      <th>stockoptionlevel</th>\n",
       "      <th>percentsalaryhike</th>\n",
       "      <th>salary</th>\n",
       "      <th>monthlyincome</th>\n",
       "      <th>joblevel</th>\n",
       "      <th>jobrole</th>\n",
       "      <th>relationshipsatisfaction</th>\n",
       "      <th>environmentsatisfaction</th>\n",
       "      <th>jobsatisfaction</th>\n",
       "      <th>yearssincelastpromotion</th>\n",
       "      <th>yearswithcurrmanager</th>\n",
       "    </tr>\n",
       "  </thead>\n",
       "  <tbody>\n",
       "    <tr>\n",
       "      <th>0</th>\n",
       "      <td>1</td>\n",
       "      <td>1972</td>\n",
       "      <td>Yes</td>\n",
       "      <td>3</td>\n",
       "      <td>0</td>\n",
       "      <td>0</td>\n",
       "      <td>13</td>\n",
       "      <td>195370,00$</td>\n",
       "      <td>16280,83$</td>\n",
       "      <td>5</td>\n",
       "      <td>resEArch DIREcToR</td>\n",
       "      <td>3</td>\n",
       "      <td>1</td>\n",
       "      <td>3</td>\n",
       "      <td>15</td>\n",
       "      <td>15</td>\n",
       "    </tr>\n",
       "    <tr>\n",
       "      <th>1</th>\n",
       "      <td>2</td>\n",
       "      <td>1971</td>\n",
       "      <td>1</td>\n",
       "      <td>4</td>\n",
       "      <td>0</td>\n",
       "      <td>1</td>\n",
       "      <td>14</td>\n",
       "      <td>199990,00$</td>\n",
       "      <td>NaN</td>\n",
       "      <td>5</td>\n",
       "      <td>ManAGeR</td>\n",
       "      <td>1</td>\n",
       "      <td>3</td>\n",
       "      <td>3</td>\n",
       "      <td>11</td>\n",
       "      <td>9</td>\n",
       "    </tr>\n",
       "    <tr>\n",
       "      <th>2</th>\n",
       "      <td>3</td>\n",
       "      <td>1981</td>\n",
       "      <td>1</td>\n",
       "      <td>2</td>\n",
       "      <td>0</td>\n",
       "      <td>0</td>\n",
       "      <td>11</td>\n",
       "      <td>192320,00$</td>\n",
       "      <td>NaN</td>\n",
       "      <td>5</td>\n",
       "      <td>ManaGER</td>\n",
       "      <td>4</td>\n",
       "      <td>3</td>\n",
       "      <td>4</td>\n",
       "      <td>11</td>\n",
       "      <td>15</td>\n",
       "    </tr>\n",
       "    <tr>\n",
       "      <th>3</th>\n",
       "      <td>4</td>\n",
       "      <td>1976</td>\n",
       "      <td>False</td>\n",
       "      <td>4</td>\n",
       "      <td>1</td>\n",
       "      <td>2</td>\n",
       "      <td>19</td>\n",
       "      <td>171690,00$</td>\n",
       "      <td>14307,50$</td>\n",
       "      <td>4</td>\n",
       "      <td>ReseArCH DIrECtOr</td>\n",
       "      <td>2</td>\n",
       "      <td>1</td>\n",
       "      <td>3</td>\n",
       "      <td>5</td>\n",
       "      <td>6</td>\n",
       "    </tr>\n",
       "    <tr>\n",
       "      <th>4</th>\n",
       "      <td>5</td>\n",
       "      <td>1977</td>\n",
       "      <td>0</td>\n",
       "      <td>3</td>\n",
       "      <td>1</td>\n",
       "      <td>1</td>\n",
       "      <td>12</td>\n",
       "      <td>NaN</td>\n",
       "      <td>12783,92$</td>\n",
       "      <td>4</td>\n",
       "      <td>sAleS EXECUtIve</td>\n",
       "      <td>4</td>\n",
       "      <td>1</td>\n",
       "      <td>1</td>\n",
       "      <td>2</td>\n",
       "      <td>8</td>\n",
       "    </tr>\n",
       "  </tbody>\n",
       "</table>\n",
       "</div>"
      ],
      "text/plain": [
       "   employeenumber  datebirth remotework  education  gender  stockoptionlevel  \\\n",
       "0               1       1972        Yes          3       0                 0   \n",
       "1               2       1971          1          4       0                 1   \n",
       "2               3       1981          1          2       0                 0   \n",
       "3               4       1976      False          4       1                 2   \n",
       "4               5       1977          0          3       1                 1   \n",
       "\n",
       "   percentsalaryhike      salary monthlyincome  joblevel              jobrole  \\\n",
       "0                 13  195370,00$     16280,83$         5   resEArch DIREcToR    \n",
       "1                 14  199990,00$           NaN         5             ManAGeR    \n",
       "2                 11  192320,00$           NaN         5             ManaGER    \n",
       "3                 19  171690,00$     14307,50$         4   ReseArCH DIrECtOr    \n",
       "4                 12         NaN     12783,92$         4     sAleS EXECUtIve    \n",
       "\n",
       "   relationshipsatisfaction  environmentsatisfaction  jobsatisfaction  \\\n",
       "0                         3                        1                3   \n",
       "1                         1                        3                3   \n",
       "2                         4                        3                4   \n",
       "3                         2                        1                3   \n",
       "4                         4                        1                1   \n",
       "\n",
       "   yearssincelastpromotion  yearswithcurrmanager  \n",
       "0                       15                    15  \n",
       "1                       11                     9  \n",
       "2                       11                    15  \n",
       "3                        5                     6  \n",
       "4                        2                     8  "
      ]
     },
     "execution_count": 7,
     "metadata": {},
     "output_type": "execute_result"
    }
   ],
   "source": [
    "df.head()"
   ]
  },
  {
   "cell_type": "markdown",
   "metadata": {},
   "source": [
    "## Limpiando las columnas elegidas"
   ]
  },
  {
   "cell_type": "markdown",
   "metadata": {},
   "source": [
    "Primero, quitar duplicados"
   ]
  },
  {
   "cell_type": "code",
   "execution_count": 8,
   "metadata": {},
   "outputs": [
    {
     "data": {
      "text/plain": [
       "np.int64(64)"
      ]
     },
     "execution_count": 8,
     "metadata": {},
     "output_type": "execute_result"
    }
   ],
   "source": [
    "df.duplicated().sum()"
   ]
  },
  {
   "cell_type": "code",
   "execution_count": 9,
   "metadata": {},
   "outputs": [],
   "source": [
    "df.drop_duplicates(inplace=True)"
   ]
  },
  {
   "cell_type": "code",
   "execution_count": 10,
   "metadata": {},
   "outputs": [
    {
     "data": {
      "text/plain": [
       "np.int64(0)"
      ]
     },
     "execution_count": 10,
     "metadata": {},
     "output_type": "execute_result"
    }
   ],
   "source": [
    "df.duplicated().sum()"
   ]
  },
  {
   "cell_type": "markdown",
   "metadata": {},
   "source": [
    "Gender: cambiar 1 y 0 por Female y Male."
   ]
  },
  {
   "cell_type": "code",
   "execution_count": 11,
   "metadata": {},
   "outputs": [],
   "source": [
    "df['gender'] = df['gender'].map({0: 'F', 1: 'M'})"
   ]
  },
  {
   "cell_type": "code",
   "execution_count": 12,
   "metadata": {},
   "outputs": [
    {
     "data": {
      "text/plain": [
       "array(['F', 'M'], dtype=object)"
      ]
     },
     "execution_count": 12,
     "metadata": {},
     "output_type": "execute_result"
    }
   ],
   "source": [
    "df['gender'].unique()"
   ]
  },
  {
   "cell_type": "markdown",
   "metadata": {},
   "source": [
    "Remote work: unificar valores"
   ]
  },
  {
   "cell_type": "code",
   "execution_count": 13,
   "metadata": {},
   "outputs": [],
   "source": [
    "df['remotework'] = df['remotework'].astype(str).str.lower()\n",
    "df['remotework'] = df['remotework'].replace({\n",
    "                   'true': 'yes', 'false': 'no', \n",
    "                   '1': 'yes', '0': 'no'})"
   ]
  },
  {
   "cell_type": "code",
   "execution_count": 14,
   "metadata": {},
   "outputs": [
    {
     "data": {
      "text/plain": [
       "array(['yes', 'no'], dtype=object)"
      ]
     },
     "execution_count": 14,
     "metadata": {},
     "output_type": "execute_result"
    }
   ],
   "source": [
    "df['remotework'].unique()"
   ]
  },
  {
   "cell_type": "markdown",
   "metadata": {},
   "source": [
    "Salary y Monthly income: Quitar símbolos y pasarlo a float."
   ]
  },
  {
   "cell_type": "code",
   "execution_count": 15,
   "metadata": {},
   "outputs": [],
   "source": [
    "def clean_money(*args):\n",
    "    resultados = []\n",
    "    for dato in args:\n",
    "        try:\n",
    "            resultados.append(float(dato.replace('$', '').replace(',', '.')))\n",
    "        except: \n",
    "            resultados.append(np.nan)\n",
    "    return resultados if len(resultados) > 1 else resultados[0]"
   ]
  },
  {
   "cell_type": "code",
   "execution_count": 16,
   "metadata": {},
   "outputs": [],
   "source": [
    "df[[\"monthlyincome\",\"salary\"]] = df.apply(lambda x: clean_money(x[\"monthlyincome\"], x[\"salary\"]), axis=1, result_type=\"expand\")"
   ]
  },
  {
   "cell_type": "code",
   "execution_count": 17,
   "metadata": {},
   "outputs": [
    {
     "data": {
      "text/html": [
       "<div>\n",
       "<style scoped>\n",
       "    .dataframe tbody tr th:only-of-type {\n",
       "        vertical-align: middle;\n",
       "    }\n",
       "\n",
       "    .dataframe tbody tr th {\n",
       "        vertical-align: top;\n",
       "    }\n",
       "\n",
       "    .dataframe thead th {\n",
       "        text-align: right;\n",
       "    }\n",
       "</style>\n",
       "<table border=\"1\" class=\"dataframe\">\n",
       "  <thead>\n",
       "    <tr style=\"text-align: right;\">\n",
       "      <th></th>\n",
       "      <th>monthlyincome</th>\n",
       "      <th>salary</th>\n",
       "    </tr>\n",
       "  </thead>\n",
       "  <tbody>\n",
       "    <tr>\n",
       "      <th>0</th>\n",
       "      <td>16280.83</td>\n",
       "      <td>195370.00</td>\n",
       "    </tr>\n",
       "    <tr>\n",
       "      <th>1</th>\n",
       "      <td>NaN</td>\n",
       "      <td>199990.00</td>\n",
       "    </tr>\n",
       "    <tr>\n",
       "      <th>2</th>\n",
       "      <td>NaN</td>\n",
       "      <td>192320.00</td>\n",
       "    </tr>\n",
       "    <tr>\n",
       "      <th>3</th>\n",
       "      <td>14307.50</td>\n",
       "      <td>171690.00</td>\n",
       "    </tr>\n",
       "    <tr>\n",
       "      <th>4</th>\n",
       "      <td>12783.92</td>\n",
       "      <td>NaN</td>\n",
       "    </tr>\n",
       "    <tr>\n",
       "      <th>...</th>\n",
       "      <td>...</td>\n",
       "      <td>...</td>\n",
       "    </tr>\n",
       "    <tr>\n",
       "      <th>1609</th>\n",
       "      <td>8604.17</td>\n",
       "      <td>103250.00</td>\n",
       "    </tr>\n",
       "    <tr>\n",
       "      <th>1610</th>\n",
       "      <td>3705.83</td>\n",
       "      <td>44470.00</td>\n",
       "    </tr>\n",
       "    <tr>\n",
       "      <th>1611</th>\n",
       "      <td>NaN</td>\n",
       "      <td>100071.84</td>\n",
       "    </tr>\n",
       "    <tr>\n",
       "      <th>1612</th>\n",
       "      <td>4492.84</td>\n",
       "      <td>53914.11</td>\n",
       "    </tr>\n",
       "    <tr>\n",
       "      <th>1613</th>\n",
       "      <td>9037.50</td>\n",
       "      <td>108450.00</td>\n",
       "    </tr>\n",
       "  </tbody>\n",
       "</table>\n",
       "<p>1614 rows × 2 columns</p>\n",
       "</div>"
      ],
      "text/plain": [
       "      monthlyincome     salary\n",
       "0          16280.83  195370.00\n",
       "1               NaN  199990.00\n",
       "2               NaN  192320.00\n",
       "3          14307.50  171690.00\n",
       "4          12783.92        NaN\n",
       "...             ...        ...\n",
       "1609        8604.17  103250.00\n",
       "1610        3705.83   44470.00\n",
       "1611            NaN  100071.84\n",
       "1612        4492.84   53914.11\n",
       "1613        9037.50  108450.00\n",
       "\n",
       "[1614 rows x 2 columns]"
      ]
     },
     "execution_count": 17,
     "metadata": {},
     "output_type": "execute_result"
    }
   ],
   "source": [
    "df[[\"monthlyincome\",\"salary\"]]"
   ]
  },
  {
   "cell_type": "markdown",
   "metadata": {},
   "source": [
    "Jobrole: ponerlo todo lower case."
   ]
  },
  {
   "cell_type": "code",
   "execution_count": 18,
   "metadata": {},
   "outputs": [],
   "source": [
    "df['jobrole'] = df['jobrole'].str.strip().str.replace(\" \", \"_\").str.lower()"
   ]
  },
  {
   "cell_type": "code",
   "execution_count": 19,
   "metadata": {},
   "outputs": [
    {
     "data": {
      "text/plain": [
       "0            research_director\n",
       "1                      manager\n",
       "2                      manager\n",
       "3            research_director\n",
       "4              sales_executive\n",
       "                 ...          \n",
       "1609           sales_executive\n",
       "1610     laboratory_technician\n",
       "1611           sales_executive\n",
       "1612           sales_executive\n",
       "1613    manufacturing_director\n",
       "Name: jobrole, Length: 1614, dtype: object"
      ]
     },
     "execution_count": 19,
     "metadata": {},
     "output_type": "execute_result"
    }
   ],
   "source": [
    "df['jobrole']"
   ]
  },
  {
   "cell_type": "markdown",
   "metadata": {},
   "source": [
    "## Nulos en Salary"
   ]
  },
  {
   "cell_type": "markdown",
   "metadata": {},
   "source": [
    "Como tenemos monthltincome podemos obtener salary multiplicándolo por 12."
   ]
  },
  {
   "cell_type": "code",
   "execution_count": 20,
   "metadata": {},
   "outputs": [
    {
     "data": {
      "text/plain": [
       "count      1340.000000\n",
       "mean      65245.875313\n",
       "std       45933.029687\n",
       "min       10090.000000\n",
       "25%       28111.130000\n",
       "50%       53914.110000\n",
       "75%       94607.500000\n",
       "max      199990.000000\n",
       "Name: salary, dtype: float64"
      ]
     },
     "execution_count": 20,
     "metadata": {},
     "output_type": "execute_result"
    }
   ],
   "source": [
    "df[\"salary\"].describe()"
   ]
  },
  {
   "cell_type": "code",
   "execution_count": 21,
   "metadata": {},
   "outputs": [
    {
     "data": {
      "text/plain": [
       "monthlyincome    468\n",
       "salary           274\n",
       "dtype: int64"
      ]
     },
     "execution_count": 21,
     "metadata": {},
     "output_type": "execute_result"
    }
   ],
   "source": [
    "df[[\"monthlyincome\", \"salary\"]].isna().sum()"
   ]
  },
  {
   "cell_type": "code",
   "execution_count": 22,
   "metadata": {},
   "outputs": [],
   "source": [
    "df[\"salary_from_month\"] = df[\"monthlyincome\"]*12 "
   ]
  },
  {
   "cell_type": "code",
   "execution_count": 23,
   "metadata": {},
   "outputs": [
    {
     "data": {
      "text/html": [
       "<div>\n",
       "<style scoped>\n",
       "    .dataframe tbody tr th:only-of-type {\n",
       "        vertical-align: middle;\n",
       "    }\n",
       "\n",
       "    .dataframe tbody tr th {\n",
       "        vertical-align: top;\n",
       "    }\n",
       "\n",
       "    .dataframe thead th {\n",
       "        text-align: right;\n",
       "    }\n",
       "</style>\n",
       "<table border=\"1\" class=\"dataframe\">\n",
       "  <thead>\n",
       "    <tr style=\"text-align: right;\">\n",
       "      <th></th>\n",
       "      <th>salary</th>\n",
       "      <th>salary_from_month</th>\n",
       "    </tr>\n",
       "  </thead>\n",
       "  <tbody>\n",
       "    <tr>\n",
       "      <th>0</th>\n",
       "      <td>195370.00</td>\n",
       "      <td>195369.96</td>\n",
       "    </tr>\n",
       "    <tr>\n",
       "      <th>1</th>\n",
       "      <td>199990.00</td>\n",
       "      <td>NaN</td>\n",
       "    </tr>\n",
       "    <tr>\n",
       "      <th>2</th>\n",
       "      <td>192320.00</td>\n",
       "      <td>NaN</td>\n",
       "    </tr>\n",
       "    <tr>\n",
       "      <th>3</th>\n",
       "      <td>171690.00</td>\n",
       "      <td>171690.00</td>\n",
       "    </tr>\n",
       "    <tr>\n",
       "      <th>4</th>\n",
       "      <td>NaN</td>\n",
       "      <td>153407.04</td>\n",
       "    </tr>\n",
       "    <tr>\n",
       "      <th>...</th>\n",
       "      <td>...</td>\n",
       "      <td>...</td>\n",
       "    </tr>\n",
       "    <tr>\n",
       "      <th>1609</th>\n",
       "      <td>103250.00</td>\n",
       "      <td>103250.04</td>\n",
       "    </tr>\n",
       "    <tr>\n",
       "      <th>1610</th>\n",
       "      <td>44470.00</td>\n",
       "      <td>44469.96</td>\n",
       "    </tr>\n",
       "    <tr>\n",
       "      <th>1611</th>\n",
       "      <td>100071.84</td>\n",
       "      <td>NaN</td>\n",
       "    </tr>\n",
       "    <tr>\n",
       "      <th>1612</th>\n",
       "      <td>53914.11</td>\n",
       "      <td>53914.08</td>\n",
       "    </tr>\n",
       "    <tr>\n",
       "      <th>1613</th>\n",
       "      <td>108450.00</td>\n",
       "      <td>108450.00</td>\n",
       "    </tr>\n",
       "  </tbody>\n",
       "</table>\n",
       "<p>1614 rows × 2 columns</p>\n",
       "</div>"
      ],
      "text/plain": [
       "         salary  salary_from_month\n",
       "0     195370.00          195369.96\n",
       "1     199990.00                NaN\n",
       "2     192320.00                NaN\n",
       "3     171690.00          171690.00\n",
       "4           NaN          153407.04\n",
       "...         ...                ...\n",
       "1609  103250.00          103250.04\n",
       "1610   44470.00           44469.96\n",
       "1611  100071.84                NaN\n",
       "1612   53914.11           53914.08\n",
       "1613  108450.00          108450.00\n",
       "\n",
       "[1614 rows x 2 columns]"
      ]
     },
     "execution_count": 23,
     "metadata": {},
     "output_type": "execute_result"
    }
   ],
   "source": [
    "df[[\"salary\", \"salary_from_month\"]]"
   ]
  },
  {
   "cell_type": "code",
   "execution_count": 24,
   "metadata": {},
   "outputs": [],
   "source": [
    "df['salary'] = df['salary'].fillna(df['salary_from_month'])"
   ]
  },
  {
   "cell_type": "code",
   "execution_count": 25,
   "metadata": {},
   "outputs": [
    {
     "data": {
      "text/plain": [
       "np.int64(0)"
      ]
     },
     "execution_count": 25,
     "metadata": {},
     "output_type": "execute_result"
    }
   ],
   "source": [
    "df['salary'].isna().sum()"
   ]
  },
  {
   "cell_type": "markdown",
   "metadata": {},
   "source": [
    "[\"employeenumber\",\"datebirth\", \"remotework\", \"education\", \"gender\", \"stockoptionlevel\", \n",
    "                     \"percentsalaryhike\", \"salary\", \"monthlyincome\", \"joblevel\", \"jobrole\", \"relationshipsatisfaction\", \n",
    "                     \"environmentsatisfaction\", \"jobsatisfaction\", \"yearssincelastpromotion\", \"yearswithcurrmanager\"]\n"
   ]
  },
  {
   "cell_type": "markdown",
   "metadata": {},
   "source": [
    "objetivo final :en la pregunta de los empleado estan satisfechos??? \n",
    "\n",
    "nos centramos en si la empresa es igualitaria\n",
    "\n",
    "PREGUNTAS FINALES: \n",
    " vamos a separarlo entre género y edad:\n",
    "  \n",
    "  GÉNERO \n",
    "\n",
    " -hay repartición equitativa entre el género en la empresa? --> \"gender\"\n",
    "\n",
    " -gana más quién tiene más educación? más hombre o mujer? --> \"gender\", \"education\"\n",
    " \n",
    " -están más satifechos los hombres o las mujeres? en base a salario, ambiente o rango? --> \"salary\", \"gender\", \"environmentsatisfaction\", \"joblevel\", \"jobrole\"\n",
    "\n",
    " EDAD\n",
    "\n",
    " -cómo es la distribución de edades los empleados? --> \"datebirth\"\n",
    "\n",
    " -gana más quién tiene más educación? según edad --> \"datebirth\", \"education\"\n",
    "\n",
    " -están más satifechos segun edades? en base a salario, ambiente o rango? --> \"salary\", \"datebirth\", \"environmentsatisfaction\", \"joblevel\", \"jobrole\"\n"
   ]
  },
  {
   "cell_type": "markdown",
   "metadata": {},
   "source": [
    "Fase 3: Visualizando los datos."
   ]
  },
  {
   "cell_type": "code",
   "execution_count": 26,
   "metadata": {},
   "outputs": [
    {
     "data": {
      "text/html": [
       "<div>\n",
       "<style scoped>\n",
       "    .dataframe tbody tr th:only-of-type {\n",
       "        vertical-align: middle;\n",
       "    }\n",
       "\n",
       "    .dataframe tbody tr th {\n",
       "        vertical-align: top;\n",
       "    }\n",
       "\n",
       "    .dataframe thead th {\n",
       "        text-align: right;\n",
       "    }\n",
       "</style>\n",
       "<table border=\"1\" class=\"dataframe\">\n",
       "  <thead>\n",
       "    <tr style=\"text-align: right;\">\n",
       "      <th></th>\n",
       "      <th>employeenumber</th>\n",
       "      <th>datebirth</th>\n",
       "      <th>remotework</th>\n",
       "      <th>education</th>\n",
       "      <th>gender</th>\n",
       "      <th>stockoptionlevel</th>\n",
       "      <th>percentsalaryhike</th>\n",
       "      <th>salary</th>\n",
       "      <th>monthlyincome</th>\n",
       "      <th>joblevel</th>\n",
       "      <th>jobrole</th>\n",
       "      <th>relationshipsatisfaction</th>\n",
       "      <th>environmentsatisfaction</th>\n",
       "      <th>jobsatisfaction</th>\n",
       "      <th>yearssincelastpromotion</th>\n",
       "      <th>yearswithcurrmanager</th>\n",
       "      <th>salary_from_month</th>\n",
       "    </tr>\n",
       "  </thead>\n",
       "  <tbody>\n",
       "    <tr>\n",
       "      <th>0</th>\n",
       "      <td>1</td>\n",
       "      <td>1972</td>\n",
       "      <td>yes</td>\n",
       "      <td>3</td>\n",
       "      <td>F</td>\n",
       "      <td>0</td>\n",
       "      <td>13</td>\n",
       "      <td>195370.00</td>\n",
       "      <td>16280.83</td>\n",
       "      <td>5</td>\n",
       "      <td>research_director</td>\n",
       "      <td>3</td>\n",
       "      <td>1</td>\n",
       "      <td>3</td>\n",
       "      <td>15</td>\n",
       "      <td>15</td>\n",
       "      <td>195369.96</td>\n",
       "    </tr>\n",
       "    <tr>\n",
       "      <th>1</th>\n",
       "      <td>2</td>\n",
       "      <td>1971</td>\n",
       "      <td>yes</td>\n",
       "      <td>4</td>\n",
       "      <td>F</td>\n",
       "      <td>1</td>\n",
       "      <td>14</td>\n",
       "      <td>199990.00</td>\n",
       "      <td>NaN</td>\n",
       "      <td>5</td>\n",
       "      <td>manager</td>\n",
       "      <td>1</td>\n",
       "      <td>3</td>\n",
       "      <td>3</td>\n",
       "      <td>11</td>\n",
       "      <td>9</td>\n",
       "      <td>NaN</td>\n",
       "    </tr>\n",
       "    <tr>\n",
       "      <th>2</th>\n",
       "      <td>3</td>\n",
       "      <td>1981</td>\n",
       "      <td>yes</td>\n",
       "      <td>2</td>\n",
       "      <td>F</td>\n",
       "      <td>0</td>\n",
       "      <td>11</td>\n",
       "      <td>192320.00</td>\n",
       "      <td>NaN</td>\n",
       "      <td>5</td>\n",
       "      <td>manager</td>\n",
       "      <td>4</td>\n",
       "      <td>3</td>\n",
       "      <td>4</td>\n",
       "      <td>11</td>\n",
       "      <td>15</td>\n",
       "      <td>NaN</td>\n",
       "    </tr>\n",
       "    <tr>\n",
       "      <th>3</th>\n",
       "      <td>4</td>\n",
       "      <td>1976</td>\n",
       "      <td>no</td>\n",
       "      <td>4</td>\n",
       "      <td>M</td>\n",
       "      <td>2</td>\n",
       "      <td>19</td>\n",
       "      <td>171690.00</td>\n",
       "      <td>14307.50</td>\n",
       "      <td>4</td>\n",
       "      <td>research_director</td>\n",
       "      <td>2</td>\n",
       "      <td>1</td>\n",
       "      <td>3</td>\n",
       "      <td>5</td>\n",
       "      <td>6</td>\n",
       "      <td>171690.00</td>\n",
       "    </tr>\n",
       "    <tr>\n",
       "      <th>4</th>\n",
       "      <td>5</td>\n",
       "      <td>1977</td>\n",
       "      <td>no</td>\n",
       "      <td>3</td>\n",
       "      <td>M</td>\n",
       "      <td>1</td>\n",
       "      <td>12</td>\n",
       "      <td>153407.04</td>\n",
       "      <td>12783.92</td>\n",
       "      <td>4</td>\n",
       "      <td>sales_executive</td>\n",
       "      <td>4</td>\n",
       "      <td>1</td>\n",
       "      <td>1</td>\n",
       "      <td>2</td>\n",
       "      <td>8</td>\n",
       "      <td>153407.04</td>\n",
       "    </tr>\n",
       "  </tbody>\n",
       "</table>\n",
       "</div>"
      ],
      "text/plain": [
       "   employeenumber  datebirth remotework  education gender  stockoptionlevel  \\\n",
       "0               1       1972        yes          3      F                 0   \n",
       "1               2       1971        yes          4      F                 1   \n",
       "2               3       1981        yes          2      F                 0   \n",
       "3               4       1976         no          4      M                 2   \n",
       "4               5       1977         no          3      M                 1   \n",
       "\n",
       "   percentsalaryhike     salary  monthlyincome  joblevel            jobrole  \\\n",
       "0                 13  195370.00       16280.83         5  research_director   \n",
       "1                 14  199990.00            NaN         5            manager   \n",
       "2                 11  192320.00            NaN         5            manager   \n",
       "3                 19  171690.00       14307.50         4  research_director   \n",
       "4                 12  153407.04       12783.92         4    sales_executive   \n",
       "\n",
       "   relationshipsatisfaction  environmentsatisfaction  jobsatisfaction  \\\n",
       "0                         3                        1                3   \n",
       "1                         1                        3                3   \n",
       "2                         4                        3                4   \n",
       "3                         2                        1                3   \n",
       "4                         4                        1                1   \n",
       "\n",
       "   yearssincelastpromotion  yearswithcurrmanager  salary_from_month  \n",
       "0                       15                    15          195369.96  \n",
       "1                       11                     9                NaN  \n",
       "2                       11                    15                NaN  \n",
       "3                        5                     6          171690.00  \n",
       "4                        2                     8          153407.04  "
      ]
     },
     "execution_count": 26,
     "metadata": {},
     "output_type": "execute_result"
    }
   ],
   "source": [
    "df.head()"
   ]
  },
  {
   "cell_type": "code",
   "execution_count": 27,
   "metadata": {},
   "outputs": [
    {
     "data": {
      "text/plain": [
       "0       53\n",
       "1       54\n",
       "2       44\n",
       "3       49\n",
       "4       48\n",
       "        ..\n",
       "1609    38\n",
       "1610    47\n",
       "1611    41\n",
       "1612    38\n",
       "1613    48\n",
       "Name: age_2025, Length: 1614, dtype: int64"
      ]
     },
     "execution_count": 27,
     "metadata": {},
     "output_type": "execute_result"
    }
   ],
   "source": [
    "#actualizar edades. CREACIÓN COLUMNA \n",
    "\n",
    "df[\"age_2025\"] = 2025 - df[\"datebirth\"] \n",
    "df[\"age_2025\"] "
   ]
  },
  {
   "cell_type": "code",
   "execution_count": 28,
   "metadata": {},
   "outputs": [
    {
     "data": {
      "text/html": [
       "<div>\n",
       "<style scoped>\n",
       "    .dataframe tbody tr th:only-of-type {\n",
       "        vertical-align: middle;\n",
       "    }\n",
       "\n",
       "    .dataframe tbody tr th {\n",
       "        vertical-align: top;\n",
       "    }\n",
       "\n",
       "    .dataframe thead th {\n",
       "        text-align: right;\n",
       "    }\n",
       "</style>\n",
       "<table border=\"1\" class=\"dataframe\">\n",
       "  <thead>\n",
       "    <tr style=\"text-align: right;\">\n",
       "      <th></th>\n",
       "      <th>employeenumber</th>\n",
       "      <th>datebirth</th>\n",
       "      <th>remotework</th>\n",
       "      <th>education</th>\n",
       "      <th>gender</th>\n",
       "      <th>stockoptionlevel</th>\n",
       "      <th>percentsalaryhike</th>\n",
       "      <th>salary</th>\n",
       "      <th>monthlyincome</th>\n",
       "      <th>joblevel</th>\n",
       "      <th>jobrole</th>\n",
       "      <th>relationshipsatisfaction</th>\n",
       "      <th>environmentsatisfaction</th>\n",
       "      <th>jobsatisfaction</th>\n",
       "      <th>yearssincelastpromotion</th>\n",
       "      <th>yearswithcurrmanager</th>\n",
       "      <th>salary_from_month</th>\n",
       "      <th>age_2025</th>\n",
       "    </tr>\n",
       "  </thead>\n",
       "  <tbody>\n",
       "    <tr>\n",
       "      <th>0</th>\n",
       "      <td>1</td>\n",
       "      <td>1972</td>\n",
       "      <td>yes</td>\n",
       "      <td>3</td>\n",
       "      <td>F</td>\n",
       "      <td>0</td>\n",
       "      <td>13</td>\n",
       "      <td>195370.00</td>\n",
       "      <td>16280.83</td>\n",
       "      <td>5</td>\n",
       "      <td>research_director</td>\n",
       "      <td>3</td>\n",
       "      <td>1</td>\n",
       "      <td>3</td>\n",
       "      <td>15</td>\n",
       "      <td>15</td>\n",
       "      <td>195369.96</td>\n",
       "      <td>53</td>\n",
       "    </tr>\n",
       "    <tr>\n",
       "      <th>1</th>\n",
       "      <td>2</td>\n",
       "      <td>1971</td>\n",
       "      <td>yes</td>\n",
       "      <td>4</td>\n",
       "      <td>F</td>\n",
       "      <td>1</td>\n",
       "      <td>14</td>\n",
       "      <td>199990.00</td>\n",
       "      <td>NaN</td>\n",
       "      <td>5</td>\n",
       "      <td>manager</td>\n",
       "      <td>1</td>\n",
       "      <td>3</td>\n",
       "      <td>3</td>\n",
       "      <td>11</td>\n",
       "      <td>9</td>\n",
       "      <td>NaN</td>\n",
       "      <td>54</td>\n",
       "    </tr>\n",
       "    <tr>\n",
       "      <th>2</th>\n",
       "      <td>3</td>\n",
       "      <td>1981</td>\n",
       "      <td>yes</td>\n",
       "      <td>2</td>\n",
       "      <td>F</td>\n",
       "      <td>0</td>\n",
       "      <td>11</td>\n",
       "      <td>192320.00</td>\n",
       "      <td>NaN</td>\n",
       "      <td>5</td>\n",
       "      <td>manager</td>\n",
       "      <td>4</td>\n",
       "      <td>3</td>\n",
       "      <td>4</td>\n",
       "      <td>11</td>\n",
       "      <td>15</td>\n",
       "      <td>NaN</td>\n",
       "      <td>44</td>\n",
       "    </tr>\n",
       "    <tr>\n",
       "      <th>3</th>\n",
       "      <td>4</td>\n",
       "      <td>1976</td>\n",
       "      <td>no</td>\n",
       "      <td>4</td>\n",
       "      <td>M</td>\n",
       "      <td>2</td>\n",
       "      <td>19</td>\n",
       "      <td>171690.00</td>\n",
       "      <td>14307.50</td>\n",
       "      <td>4</td>\n",
       "      <td>research_director</td>\n",
       "      <td>2</td>\n",
       "      <td>1</td>\n",
       "      <td>3</td>\n",
       "      <td>5</td>\n",
       "      <td>6</td>\n",
       "      <td>171690.00</td>\n",
       "      <td>49</td>\n",
       "    </tr>\n",
       "    <tr>\n",
       "      <th>4</th>\n",
       "      <td>5</td>\n",
       "      <td>1977</td>\n",
       "      <td>no</td>\n",
       "      <td>3</td>\n",
       "      <td>M</td>\n",
       "      <td>1</td>\n",
       "      <td>12</td>\n",
       "      <td>153407.04</td>\n",
       "      <td>12783.92</td>\n",
       "      <td>4</td>\n",
       "      <td>sales_executive</td>\n",
       "      <td>4</td>\n",
       "      <td>1</td>\n",
       "      <td>1</td>\n",
       "      <td>2</td>\n",
       "      <td>8</td>\n",
       "      <td>153407.04</td>\n",
       "      <td>48</td>\n",
       "    </tr>\n",
       "  </tbody>\n",
       "</table>\n",
       "</div>"
      ],
      "text/plain": [
       "   employeenumber  datebirth remotework  education gender  stockoptionlevel  \\\n",
       "0               1       1972        yes          3      F                 0   \n",
       "1               2       1971        yes          4      F                 1   \n",
       "2               3       1981        yes          2      F                 0   \n",
       "3               4       1976         no          4      M                 2   \n",
       "4               5       1977         no          3      M                 1   \n",
       "\n",
       "   percentsalaryhike     salary  monthlyincome  joblevel            jobrole  \\\n",
       "0                 13  195370.00       16280.83         5  research_director   \n",
       "1                 14  199990.00            NaN         5            manager   \n",
       "2                 11  192320.00            NaN         5            manager   \n",
       "3                 19  171690.00       14307.50         4  research_director   \n",
       "4                 12  153407.04       12783.92         4    sales_executive   \n",
       "\n",
       "   relationshipsatisfaction  environmentsatisfaction  jobsatisfaction  \\\n",
       "0                         3                        1                3   \n",
       "1                         1                        3                3   \n",
       "2                         4                        3                4   \n",
       "3                         2                        1                3   \n",
       "4                         4                        1                1   \n",
       "\n",
       "   yearssincelastpromotion  yearswithcurrmanager  salary_from_month  age_2025  \n",
       "0                       15                    15          195369.96        53  \n",
       "1                       11                     9                NaN        54  \n",
       "2                       11                    15                NaN        44  \n",
       "3                        5                     6          171690.00        49  \n",
       "4                        2                     8          153407.04        48  "
      ]
     },
     "execution_count": 28,
     "metadata": {},
     "output_type": "execute_result"
    }
   ],
   "source": [
    "df.head()"
   ]
  },
  {
   "cell_type": "code",
   "execution_count": 29,
   "metadata": {},
   "outputs": [
    {
     "data": {
      "text/plain": [
       "<Axes: xlabel='age_2025', ylabel='Count'>"
      ]
     },
     "execution_count": 29,
     "metadata": {},
     "output_type": "execute_result"
    },
    {
     "data": {
      "image/png": "[encoded data removed]",
      "text/plain": [
       "<Figure size 640x480 with 1 Axes>"
      ]
     },
     "metadata": {},
     "output_type": "display_data"
    }
   ],
   "source": [
    "# -cómo es la distribución de edades los empleados? --> \"datebirth\"\n",
    "\n",
    "sns.histplot(x = \"age_2025\", \n",
    "             data = df, \n",
    "             color = \"violet\", \n",
    "             kde = True)"
   ]
  },
  {
   "cell_type": "markdown",
   "metadata": {},
   "source": [
    "Vamos a hacer división generacional:\n",
    "\n",
    "Generación Baby Boomers (nacidos entre 1945 y 1964)\n",
    "\n",
    "Generación X (nacidos entre 1965 y 1981)\n",
    "\n",
    "Generación Y o Millennials (nacidos entre 1982 y 1994)\n",
    "\n",
    "Generación Z o Centennials (nacidos entre 1995 y 2009)"
   ]
  },
  {
   "cell_type": "code",
   "execution_count": 30,
   "metadata": {},
   "outputs": [
    {
     "data": {
      "text/html": [
       "<div>\n",
       "<style scoped>\n",
       "    .dataframe tbody tr th:only-of-type {\n",
       "        vertical-align: middle;\n",
       "    }\n",
       "\n",
       "    .dataframe tbody tr th {\n",
       "        vertical-align: top;\n",
       "    }\n",
       "\n",
       "    .dataframe thead th {\n",
       "        text-align: right;\n",
       "    }\n",
       "</style>\n",
       "<table border=\"1\" class=\"dataframe\">\n",
       "  <thead>\n",
       "    <tr style=\"text-align: right;\">\n",
       "      <th></th>\n",
       "      <th>index</th>\n",
       "      <th>age_2025</th>\n",
       "    </tr>\n",
       "  </thead>\n",
       "  <tbody>\n",
       "    <tr>\n",
       "      <th>0</th>\n",
       "      <td>count</td>\n",
       "      <td>1614.000000</td>\n",
       "    </tr>\n",
       "    <tr>\n",
       "      <th>1</th>\n",
       "      <td>mean</td>\n",
       "      <td>38.923792</td>\n",
       "    </tr>\n",
       "    <tr>\n",
       "      <th>2</th>\n",
       "      <td>std</td>\n",
       "      <td>9.101332</td>\n",
       "    </tr>\n",
       "    <tr>\n",
       "      <th>3</th>\n",
       "      <td>min</td>\n",
       "      <td>20.000000</td>\n",
       "    </tr>\n",
       "    <tr>\n",
       "      <th>4</th>\n",
       "      <td>25%</td>\n",
       "      <td>32.000000</td>\n",
       "    </tr>\n",
       "    <tr>\n",
       "      <th>5</th>\n",
       "      <td>50%</td>\n",
       "      <td>38.000000</td>\n",
       "    </tr>\n",
       "    <tr>\n",
       "      <th>6</th>\n",
       "      <td>75%</td>\n",
       "      <td>45.000000</td>\n",
       "    </tr>\n",
       "    <tr>\n",
       "      <th>7</th>\n",
       "      <td>max</td>\n",
       "      <td>62.000000</td>\n",
       "    </tr>\n",
       "  </tbody>\n",
       "</table>\n",
       "</div>"
      ],
      "text/plain": [
       "   index     age_2025\n",
       "0  count  1614.000000\n",
       "1   mean    38.923792\n",
       "2    std     9.101332\n",
       "3    min    20.000000\n",
       "4    25%    32.000000\n",
       "5    50%    38.000000\n",
       "6    75%    45.000000\n",
       "7    max    62.000000"
      ]
     },
     "execution_count": 30,
     "metadata": {},
     "output_type": "execute_result"
    }
   ],
   "source": [
    "#-gana más quién tiene más educación? según edad --> \"datebirth\", \"education\"\n",
    "df[\"age_2025\"].describe().T.reset_index()\n"
   ]
  },
  {
   "cell_type": "code",
   "execution_count": 31,
   "metadata": {},
   "outputs": [
    {
     "data": {
      "text/html": [
       "<div>\n",
       "<style scoped>\n",
       "    .dataframe tbody tr th:only-of-type {\n",
       "        vertical-align: middle;\n",
       "    }\n",
       "\n",
       "    .dataframe tbody tr th {\n",
       "        vertical-align: top;\n",
       "    }\n",
       "\n",
       "    .dataframe thead th {\n",
       "        text-align: right;\n",
       "    }\n",
       "</style>\n",
       "<table border=\"1\" class=\"dataframe\">\n",
       "  <thead>\n",
       "    <tr style=\"text-align: right;\">\n",
       "      <th></th>\n",
       "      <th>employeenumber</th>\n",
       "      <th>datebirth</th>\n",
       "      <th>remotework</th>\n",
       "      <th>education</th>\n",
       "      <th>gender</th>\n",
       "      <th>stockoptionlevel</th>\n",
       "      <th>percentsalaryhike</th>\n",
       "      <th>salary</th>\n",
       "      <th>monthlyincome</th>\n",
       "      <th>joblevel</th>\n",
       "      <th>jobrole</th>\n",
       "      <th>relationshipsatisfaction</th>\n",
       "      <th>environmentsatisfaction</th>\n",
       "      <th>jobsatisfaction</th>\n",
       "      <th>yearssincelastpromotion</th>\n",
       "      <th>yearswithcurrmanager</th>\n",
       "      <th>salary_from_month</th>\n",
       "      <th>age_2025</th>\n",
       "      <th>generation</th>\n",
       "    </tr>\n",
       "  </thead>\n",
       "  <tbody>\n",
       "    <tr>\n",
       "      <th>0</th>\n",
       "      <td>1</td>\n",
       "      <td>1972</td>\n",
       "      <td>yes</td>\n",
       "      <td>3</td>\n",
       "      <td>F</td>\n",
       "      <td>0</td>\n",
       "      <td>13</td>\n",
       "      <td>195370.00</td>\n",
       "      <td>16280.83</td>\n",
       "      <td>5</td>\n",
       "      <td>research_director</td>\n",
       "      <td>3</td>\n",
       "      <td>1</td>\n",
       "      <td>3</td>\n",
       "      <td>15</td>\n",
       "      <td>15</td>\n",
       "      <td>195369.96</td>\n",
       "      <td>53</td>\n",
       "      <td>Gen X</td>\n",
       "    </tr>\n",
       "    <tr>\n",
       "      <th>1</th>\n",
       "      <td>2</td>\n",
       "      <td>1971</td>\n",
       "      <td>yes</td>\n",
       "      <td>4</td>\n",
       "      <td>F</td>\n",
       "      <td>1</td>\n",
       "      <td>14</td>\n",
       "      <td>199990.00</td>\n",
       "      <td>NaN</td>\n",
       "      <td>5</td>\n",
       "      <td>manager</td>\n",
       "      <td>1</td>\n",
       "      <td>3</td>\n",
       "      <td>3</td>\n",
       "      <td>11</td>\n",
       "      <td>9</td>\n",
       "      <td>NaN</td>\n",
       "      <td>54</td>\n",
       "      <td>Gen X</td>\n",
       "    </tr>\n",
       "    <tr>\n",
       "      <th>2</th>\n",
       "      <td>3</td>\n",
       "      <td>1981</td>\n",
       "      <td>yes</td>\n",
       "      <td>2</td>\n",
       "      <td>F</td>\n",
       "      <td>0</td>\n",
       "      <td>11</td>\n",
       "      <td>192320.00</td>\n",
       "      <td>NaN</td>\n",
       "      <td>5</td>\n",
       "      <td>manager</td>\n",
       "      <td>4</td>\n",
       "      <td>3</td>\n",
       "      <td>4</td>\n",
       "      <td>11</td>\n",
       "      <td>15</td>\n",
       "      <td>NaN</td>\n",
       "      <td>44</td>\n",
       "      <td>Millennial</td>\n",
       "    </tr>\n",
       "    <tr>\n",
       "      <th>3</th>\n",
       "      <td>4</td>\n",
       "      <td>1976</td>\n",
       "      <td>no</td>\n",
       "      <td>4</td>\n",
       "      <td>M</td>\n",
       "      <td>2</td>\n",
       "      <td>19</td>\n",
       "      <td>171690.00</td>\n",
       "      <td>14307.50</td>\n",
       "      <td>4</td>\n",
       "      <td>research_director</td>\n",
       "      <td>2</td>\n",
       "      <td>1</td>\n",
       "      <td>3</td>\n",
       "      <td>5</td>\n",
       "      <td>6</td>\n",
       "      <td>171690.00</td>\n",
       "      <td>49</td>\n",
       "      <td>Gen X</td>\n",
       "    </tr>\n",
       "    <tr>\n",
       "      <th>4</th>\n",
       "      <td>5</td>\n",
       "      <td>1977</td>\n",
       "      <td>no</td>\n",
       "      <td>3</td>\n",
       "      <td>M</td>\n",
       "      <td>1</td>\n",
       "      <td>12</td>\n",
       "      <td>153407.04</td>\n",
       "      <td>12783.92</td>\n",
       "      <td>4</td>\n",
       "      <td>sales_executive</td>\n",
       "      <td>4</td>\n",
       "      <td>1</td>\n",
       "      <td>1</td>\n",
       "      <td>2</td>\n",
       "      <td>8</td>\n",
       "      <td>153407.04</td>\n",
       "      <td>48</td>\n",
       "      <td>Gen X</td>\n",
       "    </tr>\n",
       "    <tr>\n",
       "      <th>...</th>\n",
       "      <td>...</td>\n",
       "      <td>...</td>\n",
       "      <td>...</td>\n",
       "      <td>...</td>\n",
       "      <td>...</td>\n",
       "      <td>...</td>\n",
       "      <td>...</td>\n",
       "      <td>...</td>\n",
       "      <td>...</td>\n",
       "      <td>...</td>\n",
       "      <td>...</td>\n",
       "      <td>...</td>\n",
       "      <td>...</td>\n",
       "      <td>...</td>\n",
       "      <td>...</td>\n",
       "      <td>...</td>\n",
       "      <td>...</td>\n",
       "      <td>...</td>\n",
       "      <td>...</td>\n",
       "    </tr>\n",
       "    <tr>\n",
       "      <th>1609</th>\n",
       "      <td>1610</td>\n",
       "      <td>1987</td>\n",
       "      <td>no</td>\n",
       "      <td>1</td>\n",
       "      <td>F</td>\n",
       "      <td>1</td>\n",
       "      <td>11</td>\n",
       "      <td>103250.00</td>\n",
       "      <td>8604.17</td>\n",
       "      <td>3</td>\n",
       "      <td>sales_executive</td>\n",
       "      <td>1</td>\n",
       "      <td>3</td>\n",
       "      <td>4</td>\n",
       "      <td>3</td>\n",
       "      <td>7</td>\n",
       "      <td>103250.04</td>\n",
       "      <td>38</td>\n",
       "      <td>Millennial</td>\n",
       "    </tr>\n",
       "    <tr>\n",
       "      <th>1610</th>\n",
       "      <td>1611</td>\n",
       "      <td>1978</td>\n",
       "      <td>yes</td>\n",
       "      <td>2</td>\n",
       "      <td>F</td>\n",
       "      <td>0</td>\n",
       "      <td>12</td>\n",
       "      <td>44470.00</td>\n",
       "      <td>3705.83</td>\n",
       "      <td>2</td>\n",
       "      <td>laboratory_technician</td>\n",
       "      <td>2</td>\n",
       "      <td>3</td>\n",
       "      <td>2</td>\n",
       "      <td>0</td>\n",
       "      <td>8</td>\n",
       "      <td>44469.96</td>\n",
       "      <td>47</td>\n",
       "      <td>Gen X</td>\n",
       "    </tr>\n",
       "    <tr>\n",
       "      <th>1611</th>\n",
       "      <td>1612</td>\n",
       "      <td>1984</td>\n",
       "      <td>yes</td>\n",
       "      <td>5</td>\n",
       "      <td>F</td>\n",
       "      <td>0</td>\n",
       "      <td>18</td>\n",
       "      <td>100071.84</td>\n",
       "      <td>NaN</td>\n",
       "      <td>3</td>\n",
       "      <td>sales_executive</td>\n",
       "      <td>4</td>\n",
       "      <td>13</td>\n",
       "      <td>3</td>\n",
       "      <td>0</td>\n",
       "      <td>7</td>\n",
       "      <td>NaN</td>\n",
       "      <td>41</td>\n",
       "      <td>Millennial</td>\n",
       "    </tr>\n",
       "    <tr>\n",
       "      <th>1612</th>\n",
       "      <td>1613</td>\n",
       "      <td>1987</td>\n",
       "      <td>yes</td>\n",
       "      <td>4</td>\n",
       "      <td>F</td>\n",
       "      <td>2</td>\n",
       "      <td>13</td>\n",
       "      <td>53914.11</td>\n",
       "      <td>4492.84</td>\n",
       "      <td>2</td>\n",
       "      <td>sales_executive</td>\n",
       "      <td>4</td>\n",
       "      <td>1</td>\n",
       "      <td>4</td>\n",
       "      <td>0</td>\n",
       "      <td>7</td>\n",
       "      <td>53914.08</td>\n",
       "      <td>38</td>\n",
       "      <td>Millennial</td>\n",
       "    </tr>\n",
       "    <tr>\n",
       "      <th>1613</th>\n",
       "      <td>1614</td>\n",
       "      <td>1977</td>\n",
       "      <td>no</td>\n",
       "      <td>2</td>\n",
       "      <td>F</td>\n",
       "      <td>1</td>\n",
       "      <td>13</td>\n",
       "      <td>108450.00</td>\n",
       "      <td>9037.50</td>\n",
       "      <td>3</td>\n",
       "      <td>manufacturing_director</td>\n",
       "      <td>2</td>\n",
       "      <td>4</td>\n",
       "      <td>3</td>\n",
       "      <td>0</td>\n",
       "      <td>7</td>\n",
       "      <td>108450.00</td>\n",
       "      <td>48</td>\n",
       "      <td>Gen X</td>\n",
       "    </tr>\n",
       "  </tbody>\n",
       "</table>\n",
       "<p>1614 rows × 19 columns</p>\n",
       "</div>"
      ],
      "text/plain": [
       "      employeenumber  datebirth remotework  education gender  \\\n",
       "0                  1       1972        yes          3      F   \n",
       "1                  2       1971        yes          4      F   \n",
       "2                  3       1981        yes          2      F   \n",
       "3                  4       1976         no          4      M   \n",
       "4                  5       1977         no          3      M   \n",
       "...              ...        ...        ...        ...    ...   \n",
       "1609            1610       1987         no          1      F   \n",
       "1610            1611       1978        yes          2      F   \n",
       "1611            1612       1984        yes          5      F   \n",
       "1612            1613       1987        yes          4      F   \n",
       "1613            1614       1977         no          2      F   \n",
       "\n",
       "      stockoptionlevel  percentsalaryhike     salary  monthlyincome  joblevel  \\\n",
       "0                    0                 13  195370.00       16280.83         5   \n",
       "1                    1                 14  199990.00            NaN         5   \n",
       "2                    0                 11  192320.00            NaN         5   \n",
       "3                    2                 19  171690.00       14307.50         4   \n",
       "4                    1                 12  153407.04       12783.92         4   \n",
       "...                ...                ...        ...            ...       ...   \n",
       "1609                 1                 11  103250.00        8604.17         3   \n",
       "1610                 0                 12   44470.00        3705.83         2   \n",
       "1611                 0                 18  100071.84            NaN         3   \n",
       "1612                 2                 13   53914.11        4492.84         2   \n",
       "1613                 1                 13  108450.00        9037.50         3   \n",
       "\n",
       "                     jobrole  relationshipsatisfaction  \\\n",
       "0          research_director                         3   \n",
       "1                    manager                         1   \n",
       "2                    manager                         4   \n",
       "3          research_director                         2   \n",
       "4            sales_executive                         4   \n",
       "...                      ...                       ...   \n",
       "1609         sales_executive                         1   \n",
       "1610   laboratory_technician                         2   \n",
       "1611         sales_executive                         4   \n",
       "1612         sales_executive                         4   \n",
       "1613  manufacturing_director                         2   \n",
       "\n",
       "      environmentsatisfaction  jobsatisfaction  yearssincelastpromotion  \\\n",
       "0                           1                3                       15   \n",
       "1                           3                3                       11   \n",
       "2                           3                4                       11   \n",
       "3                           1                3                        5   \n",
       "4                           1                1                        2   \n",
       "...                       ...              ...                      ...   \n",
       "1609                        3                4                        3   \n",
       "1610                        3                2                        0   \n",
       "1611                       13                3                        0   \n",
       "1612                        1                4                        0   \n",
       "1613                        4                3                        0   \n",
       "\n",
       "      yearswithcurrmanager  salary_from_month  age_2025  generation  \n",
       "0                       15          195369.96        53       Gen X  \n",
       "1                        9                NaN        54       Gen X  \n",
       "2                       15                NaN        44  Millennial  \n",
       "3                        6          171690.00        49       Gen X  \n",
       "4                        8          153407.04        48       Gen X  \n",
       "...                    ...                ...       ...         ...  \n",
       "1609                     7          103250.04        38  Millennial  \n",
       "1610                     8           44469.96        47       Gen X  \n",
       "1611                     7                NaN        41  Millennial  \n",
       "1612                     7           53914.08        38  Millennial  \n",
       "1613                     7          108450.00        48       Gen X  \n",
       "\n",
       "[1614 rows x 19 columns]"
      ]
     },
     "metadata": {},
     "output_type": "display_data"
    }
   ],
   "source": [
    "def asignacion_generacion(datebirth):\n",
    "    if datebirth >= 1995:\n",
    "        return 'Gen Z'\n",
    "    elif datebirth >=1981:\n",
    "        return 'Millennial'\n",
    "    elif datebirth >=1965:\n",
    "        return 'Gen X'\n",
    "    else:\n",
    "        return 'Baby Boomer'\n",
    "    \n",
    "df[\"generation\"] = df['datebirth'].apply(asignacion_generacion)\n",
    "display(df)\n"
   ]
  },
  {
   "cell_type": "markdown",
   "metadata": {},
   "source": [
    "COMPROBACIÓN FUNCIÓN"
   ]
  },
  {
   "cell_type": "code",
   "execution_count": 32,
   "metadata": {},
   "outputs": [
    {
     "data": {
      "text/plain": [
       "'Millennial'"
      ]
     },
     "execution_count": 32,
     "metadata": {},
     "output_type": "execute_result"
    }
   ],
   "source": [
    "asignacion_generacion(1993)"
   ]
  },
  {
   "cell_type": "code",
   "execution_count": 33,
   "metadata": {},
   "outputs": [
    {
     "data": {
      "text/plain": [
       "'Millennial'"
      ]
     },
     "execution_count": 33,
     "metadata": {},
     "output_type": "execute_result"
    }
   ],
   "source": [
    "asignacion_generacion(1985)"
   ]
  },
  {
   "cell_type": "code",
   "execution_count": 34,
   "metadata": {},
   "outputs": [
    {
     "data": {
      "text/plain": [
       "'Baby Boomer'"
      ]
     },
     "execution_count": 34,
     "metadata": {},
     "output_type": "execute_result"
    }
   ],
   "source": [
    "asignacion_generacion(1955)"
   ]
  },
  {
   "cell_type": "code",
   "execution_count": 35,
   "metadata": {},
   "outputs": [
    {
     "data": {
      "text/plain": [
       "'Gen Z'"
      ]
     },
     "execution_count": 35,
     "metadata": {},
     "output_type": "execute_result"
    }
   ],
   "source": [
    "asignacion_generacion(2009)\n"
   ]
  },
  {
   "cell_type": "code",
   "execution_count": 36,
   "metadata": {},
   "outputs": [
    {
     "data": {
      "text/html": [
       "<div>\n",
       "<style scoped>\n",
       "    .dataframe tbody tr th:only-of-type {\n",
       "        vertical-align: middle;\n",
       "    }\n",
       "\n",
       "    .dataframe tbody tr th {\n",
       "        vertical-align: top;\n",
       "    }\n",
       "\n",
       "    .dataframe thead th {\n",
       "        text-align: right;\n",
       "    }\n",
       "</style>\n",
       "<table border=\"1\" class=\"dataframe\">\n",
       "  <thead>\n",
       "    <tr style=\"text-align: right;\">\n",
       "      <th></th>\n",
       "      <th>count</th>\n",
       "      <th>mean</th>\n",
       "      <th>std</th>\n",
       "      <th>min</th>\n",
       "      <th>25%</th>\n",
       "      <th>50%</th>\n",
       "      <th>75%</th>\n",
       "      <th>max</th>\n",
       "    </tr>\n",
       "    <tr>\n",
       "      <th>generation</th>\n",
       "      <th></th>\n",
       "      <th></th>\n",
       "      <th></th>\n",
       "      <th></th>\n",
       "      <th></th>\n",
       "      <th></th>\n",
       "      <th></th>\n",
       "      <th></th>\n",
       "    </tr>\n",
       "  </thead>\n",
       "  <tbody>\n",
       "    <tr>\n",
       "      <th>Baby Boomer</th>\n",
       "      <td>15.0</td>\n",
       "      <td>61.333333</td>\n",
       "      <td>0.487950</td>\n",
       "      <td>61.0</td>\n",
       "      <td>61.0</td>\n",
       "      <td>61.0</td>\n",
       "      <td>62.0</td>\n",
       "      <td>62.0</td>\n",
       "    </tr>\n",
       "    <tr>\n",
       "      <th>Gen X</th>\n",
       "      <td>404.0</td>\n",
       "      <td>50.905941</td>\n",
       "      <td>4.425963</td>\n",
       "      <td>45.0</td>\n",
       "      <td>47.0</td>\n",
       "      <td>50.0</td>\n",
       "      <td>55.0</td>\n",
       "      <td>60.0</td>\n",
       "    </tr>\n",
       "    <tr>\n",
       "      <th>Gen Z</th>\n",
       "      <td>282.0</td>\n",
       "      <td>26.925532</td>\n",
       "      <td>2.807867</td>\n",
       "      <td>20.0</td>\n",
       "      <td>25.0</td>\n",
       "      <td>28.0</td>\n",
       "      <td>29.0</td>\n",
       "      <td>30.0</td>\n",
       "    </tr>\n",
       "    <tr>\n",
       "      <th>Millennial</th>\n",
       "      <td>913.0</td>\n",
       "      <td>36.959474</td>\n",
       "      <td>3.896059</td>\n",
       "      <td>31.0</td>\n",
       "      <td>34.0</td>\n",
       "      <td>37.0</td>\n",
       "      <td>40.0</td>\n",
       "      <td>44.0</td>\n",
       "    </tr>\n",
       "  </tbody>\n",
       "</table>\n",
       "</div>"
      ],
      "text/plain": [
       "             count       mean       std   min   25%   50%   75%   max\n",
       "generation                                                           \n",
       "Baby Boomer   15.0  61.333333  0.487950  61.0  61.0  61.0  62.0  62.0\n",
       "Gen X        404.0  50.905941  4.425963  45.0  47.0  50.0  55.0  60.0\n",
       "Gen Z        282.0  26.925532  2.807867  20.0  25.0  28.0  29.0  30.0\n",
       "Millennial   913.0  36.959474  3.896059  31.0  34.0  37.0  40.0  44.0"
      ]
     },
     "execution_count": 36,
     "metadata": {},
     "output_type": "execute_result"
    }
   ],
   "source": [
    "df_generation = df.groupby('generation')['age_2025'].describe()\n",
    "\n",
    "df_generation"
   ]
  },
  {
   "cell_type": "code",
   "execution_count": 37,
   "metadata": {},
   "outputs": [
    {
     "data": {
      "text/plain": [
       "<Axes: xlabel='generation', ylabel='count'>"
      ]
     },
     "execution_count": 37,
     "metadata": {},
     "output_type": "execute_result"
    },
    {
     "data": {
      "image/png": "[encoded data removed]",
      "text/plain": [
       "<Figure size 640x480 with 1 Axes>"
      ]
     },
     "metadata": {},
     "output_type": "display_data"
    }
   ],
   "source": [
    "#vamos a hacer un countplot\n",
    "\n",
    "sns.countplot(x='generation', data=df, palette='mako', order = [\"Millennial\", \"Gen X\", \"Gen Z\", \"Baby Boomer\"] )"
   ]
  },
  {
   "cell_type": "markdown",
   "metadata": {},
   "source": [
    "Vemos que no es inclusiva. La mayoria son millenials. Pocos baby boomer porque muchos seguro se jubilan. pero no es algo particular de la empresa sino que es algo general del mercado laboral, le grueso de la poblacionm activa se concentra enm millenials"
   ]
  },
  {
   "cell_type": "code",
   "execution_count": 38,
   "metadata": {},
   "outputs": [],
   "source": [
    "conteo = df['generation'].value_counts()"
   ]
  },
  {
   "cell_type": "code",
   "execution_count": 39,
   "metadata": {},
   "outputs": [],
   "source": [
    "df_pie = df.groupby(\"generation\")[\"employeenumber\"].count().reset_index()"
   ]
  },
  {
   "cell_type": "code",
   "execution_count": 40,
   "metadata": {},
   "outputs": [
    {
     "data": {
      "image/png": "[encoded data removed]",
      "text/plain": [
       "<Figure size 640x480 with 1 Axes>"
      ]
     },
     "metadata": {},
     "output_type": "display_data"
    }
   ],
   "source": [
    "colores = [\"gold\", \"violet\", \"sandybrown\", \"cadetblue\"]\n",
    "\n",
    "# creamos el gráfico basándonos en el DataFrame que hemos creado en el paso anterior\n",
    "plt.pie(\"employeenumber\", labels= \"generation\",\n",
    "        data = df_pie, \n",
    "        autopct=  '%1.1f%%', \n",
    "        colors = colores, \n",
    "        textprops={'fontsize': 8}, \n",
    "        startangle=90);"
   ]
  },
  {
   "cell_type": "markdown",
   "metadata": {},
   "source": [
    "## Están más satifechos segun edades? en base a salario, ambiente o rango? --> \"salary\", \"datebirth\", \"environmentsatisfaction\", \"joblevel\", \"jobrole\""
   ]
  },
  {
   "cell_type": "markdown",
   "metadata": {},
   "source": [
    "Hay un valor de salary que es dos órdenes de magnitud mayor que los demás (10E6). Lo filtramos y llamamos a la variable clean_salary."
   ]
  },
  {
   "cell_type": "code",
   "execution_count": 41,
   "metadata": {},
   "outputs": [
    {
     "data": {
      "text/plain": [
       "count    1.614000e+03\n",
       "mean     6.558843e+04\n",
       "std      5.273783e+04\n",
       "min      1.009000e+04\n",
       "25%      2.811113e+04\n",
       "50%      5.391411e+04\n",
       "75%      9.420500e+04\n",
       "max      1.118004e+06\n",
       "Name: salary, dtype: float64"
      ]
     },
     "execution_count": 41,
     "metadata": {},
     "output_type": "execute_result"
    }
   ],
   "source": [
    "df[\"salary\"].describe()"
   ]
  },
  {
   "cell_type": "code",
   "execution_count": 42,
   "metadata": {},
   "outputs": [
    {
     "data": {
      "image/png": "[encoded data removed]",
      "text/plain": [
       "<Figure size 640x480 with 1 Axes>"
      ]
     },
     "metadata": {},
     "output_type": "display_data"
    }
   ],
   "source": [
    "clean_salary = df[\"salary\"][df[\"salary\"] != 1.118004E+06]\n",
    "\n",
    "sns.boxplot(x=clean_salary, data=df);"
   ]
  },
  {
   "cell_type": "code",
   "execution_count": 43,
   "metadata": {},
   "outputs": [
    {
     "data": {
      "text/html": [
       "<div>\n",
       "<style scoped>\n",
       "    .dataframe tbody tr th:only-of-type {\n",
       "        vertical-align: middle;\n",
       "    }\n",
       "\n",
       "    .dataframe tbody tr th {\n",
       "        vertical-align: top;\n",
       "    }\n",
       "\n",
       "    .dataframe thead th {\n",
       "        text-align: right;\n",
       "    }\n",
       "</style>\n",
       "<table border=\"1\" class=\"dataframe\">\n",
       "  <thead>\n",
       "    <tr style=\"text-align: right;\">\n",
       "      <th></th>\n",
       "      <th>Area Type</th>\n",
       "      <th>Area Name</th>\n",
       "      <th>Date</th>\n",
       "      <th>Year</th>\n",
       "      <th>Month</th>\n",
       "      <th>Age 16-19</th>\n",
       "      <th>Age 20-24</th>\n",
       "      <th>Age 25-34</th>\n",
       "      <th>Age 35-44</th>\n",
       "      <th>Age 45-54</th>\n",
       "      <th>Age 55-64</th>\n",
       "      <th>Age 65+</th>\n",
       "    </tr>\n",
       "  </thead>\n",
       "  <tbody>\n",
       "    <tr>\n",
       "      <th>0</th>\n",
       "      <td>State</td>\n",
       "      <td>California</td>\n",
       "      <td>2/1/2008</td>\n",
       "      <td>2008</td>\n",
       "      <td>February</td>\n",
       "      <td>0.358</td>\n",
       "      <td>0.724</td>\n",
       "      <td>0.816</td>\n",
       "      <td>0.816</td>\n",
       "      <td>0.811</td>\n",
       "      <td>0.651</td>\n",
       "      <td>0.146</td>\n",
       "    </tr>\n",
       "    <tr>\n",
       "      <th>1</th>\n",
       "      <td>State</td>\n",
       "      <td>California</td>\n",
       "      <td>3/1/2008</td>\n",
       "      <td>2008</td>\n",
       "      <td>March</td>\n",
       "      <td>0.354</td>\n",
       "      <td>0.722</td>\n",
       "      <td>0.816</td>\n",
       "      <td>0.817</td>\n",
       "      <td>0.811</td>\n",
       "      <td>0.653</td>\n",
       "      <td>0.147</td>\n",
       "    </tr>\n",
       "    <tr>\n",
       "      <th>2</th>\n",
       "      <td>State</td>\n",
       "      <td>California</td>\n",
       "      <td>4/1/2008</td>\n",
       "      <td>2008</td>\n",
       "      <td>April</td>\n",
       "      <td>0.349</td>\n",
       "      <td>0.722</td>\n",
       "      <td>0.815</td>\n",
       "      <td>0.818</td>\n",
       "      <td>0.812</td>\n",
       "      <td>0.655</td>\n",
       "      <td>0.149</td>\n",
       "    </tr>\n",
       "    <tr>\n",
       "      <th>3</th>\n",
       "      <td>State</td>\n",
       "      <td>California</td>\n",
       "      <td>5/1/2008</td>\n",
       "      <td>2008</td>\n",
       "      <td>May</td>\n",
       "      <td>0.347</td>\n",
       "      <td>0.722</td>\n",
       "      <td>0.816</td>\n",
       "      <td>0.820</td>\n",
       "      <td>0.811</td>\n",
       "      <td>0.655</td>\n",
       "      <td>0.150</td>\n",
       "    </tr>\n",
       "    <tr>\n",
       "      <th>4</th>\n",
       "      <td>State</td>\n",
       "      <td>California</td>\n",
       "      <td>6/1/2008</td>\n",
       "      <td>2008</td>\n",
       "      <td>June</td>\n",
       "      <td>0.344</td>\n",
       "      <td>0.721</td>\n",
       "      <td>0.816</td>\n",
       "      <td>0.822</td>\n",
       "      <td>0.810</td>\n",
       "      <td>0.654</td>\n",
       "      <td>0.153</td>\n",
       "    </tr>\n",
       "    <tr>\n",
       "      <th>...</th>\n",
       "      <td>...</td>\n",
       "      <td>...</td>\n",
       "      <td>...</td>\n",
       "      <td>...</td>\n",
       "      <td>...</td>\n",
       "      <td>...</td>\n",
       "      <td>...</td>\n",
       "      <td>...</td>\n",
       "      <td>...</td>\n",
       "      <td>...</td>\n",
       "      <td>...</td>\n",
       "      <td>...</td>\n",
       "    </tr>\n",
       "    <tr>\n",
       "      <th>200</th>\n",
       "      <td>State</td>\n",
       "      <td>California</td>\n",
       "      <td>10/1/2024</td>\n",
       "      <td>2024</td>\n",
       "      <td>October</td>\n",
       "      <td>0.287</td>\n",
       "      <td>0.682</td>\n",
       "      <td>0.816</td>\n",
       "      <td>0.836</td>\n",
       "      <td>0.801</td>\n",
       "      <td>0.649</td>\n",
       "      <td>0.186</td>\n",
       "    </tr>\n",
       "    <tr>\n",
       "      <th>201</th>\n",
       "      <td>State</td>\n",
       "      <td>California</td>\n",
       "      <td>11/1/2024</td>\n",
       "      <td>2024</td>\n",
       "      <td>November</td>\n",
       "      <td>0.282</td>\n",
       "      <td>0.685</td>\n",
       "      <td>0.816</td>\n",
       "      <td>0.837</td>\n",
       "      <td>0.802</td>\n",
       "      <td>0.647</td>\n",
       "      <td>0.186</td>\n",
       "    </tr>\n",
       "    <tr>\n",
       "      <th>202</th>\n",
       "      <td>State</td>\n",
       "      <td>California</td>\n",
       "      <td>12/1/2024</td>\n",
       "      <td>2024</td>\n",
       "      <td>December</td>\n",
       "      <td>0.278</td>\n",
       "      <td>0.689</td>\n",
       "      <td>0.817</td>\n",
       "      <td>0.838</td>\n",
       "      <td>0.803</td>\n",
       "      <td>0.646</td>\n",
       "      <td>0.186</td>\n",
       "    </tr>\n",
       "    <tr>\n",
       "      <th>203</th>\n",
       "      <td>State</td>\n",
       "      <td>California</td>\n",
       "      <td>1/1/2025</td>\n",
       "      <td>2025</td>\n",
       "      <td>January</td>\n",
       "      <td>0.274</td>\n",
       "      <td>0.689</td>\n",
       "      <td>0.818</td>\n",
       "      <td>0.838</td>\n",
       "      <td>0.803</td>\n",
       "      <td>0.646</td>\n",
       "      <td>0.187</td>\n",
       "    </tr>\n",
       "    <tr>\n",
       "      <th>204</th>\n",
       "      <td>State</td>\n",
       "      <td>California</td>\n",
       "      <td>2/1/2025</td>\n",
       "      <td>2025</td>\n",
       "      <td>February</td>\n",
       "      <td>0.272</td>\n",
       "      <td>0.692</td>\n",
       "      <td>0.818</td>\n",
       "      <td>0.837</td>\n",
       "      <td>0.805</td>\n",
       "      <td>0.647</td>\n",
       "      <td>0.187</td>\n",
       "    </tr>\n",
       "  </tbody>\n",
       "</table>\n",
       "<p>205 rows × 12 columns</p>\n",
       "</div>"
      ],
      "text/plain": [
       "    Area Type   Area Name       Date  Year     Month  Age 16-19  Age 20-24  \\\n",
       "0       State  California   2/1/2008  2008  February      0.358      0.724   \n",
       "1       State  California   3/1/2008  2008     March      0.354      0.722   \n",
       "2       State  California   4/1/2008  2008     April      0.349      0.722   \n",
       "3       State  California   5/1/2008  2008       May      0.347      0.722   \n",
       "4       State  California   6/1/2008  2008      June      0.344      0.721   \n",
       "..        ...         ...        ...   ...       ...        ...        ...   \n",
       "200     State  California  10/1/2024  2024   October      0.287      0.682   \n",
       "201     State  California  11/1/2024  2024  November      0.282      0.685   \n",
       "202     State  California  12/1/2024  2024  December      0.278      0.689   \n",
       "203     State  California   1/1/2025  2025   January      0.274      0.689   \n",
       "204     State  California   2/1/2025  2025  February      0.272      0.692   \n",
       "\n",
       "     Age 25-34  Age 35-44  Age 45-54  Age 55-64  Age 65+  \n",
       "0        0.816      0.816      0.811      0.651    0.146  \n",
       "1        0.816      0.817      0.811      0.653    0.147  \n",
       "2        0.815      0.818      0.812      0.655    0.149  \n",
       "3        0.816      0.820      0.811      0.655    0.150  \n",
       "4        0.816      0.822      0.810      0.654    0.153  \n",
       "..         ...        ...        ...        ...      ...  \n",
       "200      0.816      0.836      0.801      0.649    0.186  \n",
       "201      0.816      0.837      0.802      0.647    0.186  \n",
       "202      0.817      0.838      0.803      0.646    0.186  \n",
       "203      0.818      0.838      0.803      0.646    0.187  \n",
       "204      0.818      0.837      0.805      0.647    0.187  \n",
       "\n",
       "[205 rows x 12 columns]"
      ]
     },
     "execution_count": 43,
     "metadata": {},
     "output_type": "execute_result"
    }
   ],
   "source": [
    "df_california = pd.read_csv(\"labor_force_participation_rate_by_age_group.csv\")\n",
    "\n",
    "pd.set_option(\"display.max_columns\", None)\n",
    "\n",
    "df_california"
   ]
  },
  {
   "cell_type": "markdown",
   "metadata": {},
   "source": [
    "Mirar el DataFrame original para verificar el año del archivo"
   ]
  },
  {
   "cell_type": "code",
   "execution_count": 44,
   "metadata": {},
   "outputs": [],
   "source": [
    "df_2023_calif=df_california[df_california[\"Year\"]==2023]"
   ]
  },
  {
   "cell_type": "code",
   "execution_count": 45,
   "metadata": {},
   "outputs": [
    {
     "data": {
      "text/html": [
       "<div>\n",
       "<style scoped>\n",
       "    .dataframe tbody tr th:only-of-type {\n",
       "        vertical-align: middle;\n",
       "    }\n",
       "\n",
       "    .dataframe tbody tr th {\n",
       "        vertical-align: top;\n",
       "    }\n",
       "\n",
       "    .dataframe thead th {\n",
       "        text-align: right;\n",
       "    }\n",
       "</style>\n",
       "<table border=\"1\" class=\"dataframe\">\n",
       "  <thead>\n",
       "    <tr style=\"text-align: right;\">\n",
       "      <th></th>\n",
       "      <th>count</th>\n",
       "      <th>mean</th>\n",
       "      <th>std</th>\n",
       "      <th>min</th>\n",
       "      <th>25%</th>\n",
       "      <th>50%</th>\n",
       "      <th>75%</th>\n",
       "      <th>max</th>\n",
       "    </tr>\n",
       "  </thead>\n",
       "  <tbody>\n",
       "    <tr>\n",
       "      <th>Year</th>\n",
       "      <td>12.0</td>\n",
       "      <td>2023.000000</td>\n",
       "      <td>0.000000</td>\n",
       "      <td>2023.000</td>\n",
       "      <td>2023.00000</td>\n",
       "      <td>2023.000</td>\n",
       "      <td>2023.00000</td>\n",
       "      <td>2023.000</td>\n",
       "    </tr>\n",
       "    <tr>\n",
       "      <th>Age 16-19</th>\n",
       "      <td>12.0</td>\n",
       "      <td>0.278000</td>\n",
       "      <td>0.007422</td>\n",
       "      <td>0.267</td>\n",
       "      <td>0.27150</td>\n",
       "      <td>0.278</td>\n",
       "      <td>0.28525</td>\n",
       "      <td>0.288</td>\n",
       "    </tr>\n",
       "    <tr>\n",
       "      <th>Age 20-24</th>\n",
       "      <td>12.0</td>\n",
       "      <td>0.660417</td>\n",
       "      <td>0.005567</td>\n",
       "      <td>0.655</td>\n",
       "      <td>0.65600</td>\n",
       "      <td>0.658</td>\n",
       "      <td>0.66575</td>\n",
       "      <td>0.669</td>\n",
       "    </tr>\n",
       "    <tr>\n",
       "      <th>Age 25-34</th>\n",
       "      <td>12.0</td>\n",
       "      <td>0.816583</td>\n",
       "      <td>0.003919</td>\n",
       "      <td>0.811</td>\n",
       "      <td>0.81300</td>\n",
       "      <td>0.817</td>\n",
       "      <td>0.82025</td>\n",
       "      <td>0.822</td>\n",
       "    </tr>\n",
       "    <tr>\n",
       "      <th>Age 35-44</th>\n",
       "      <td>12.0</td>\n",
       "      <td>0.818667</td>\n",
       "      <td>0.002270</td>\n",
       "      <td>0.814</td>\n",
       "      <td>0.81775</td>\n",
       "      <td>0.819</td>\n",
       "      <td>0.82025</td>\n",
       "      <td>0.822</td>\n",
       "    </tr>\n",
       "    <tr>\n",
       "      <th>Age 45-54</th>\n",
       "      <td>12.0</td>\n",
       "      <td>0.801917</td>\n",
       "      <td>0.002193</td>\n",
       "      <td>0.800</td>\n",
       "      <td>0.80075</td>\n",
       "      <td>0.801</td>\n",
       "      <td>0.80250</td>\n",
       "      <td>0.806</td>\n",
       "    </tr>\n",
       "    <tr>\n",
       "      <th>Age 55-64</th>\n",
       "      <td>12.0</td>\n",
       "      <td>0.653000</td>\n",
       "      <td>0.001044</td>\n",
       "      <td>0.652</td>\n",
       "      <td>0.65200</td>\n",
       "      <td>0.653</td>\n",
       "      <td>0.65300</td>\n",
       "      <td>0.655</td>\n",
       "    </tr>\n",
       "    <tr>\n",
       "      <th>Age 65+</th>\n",
       "      <td>12.0</td>\n",
       "      <td>0.191000</td>\n",
       "      <td>0.002374</td>\n",
       "      <td>0.186</td>\n",
       "      <td>0.19075</td>\n",
       "      <td>0.191</td>\n",
       "      <td>0.19200</td>\n",
       "      <td>0.195</td>\n",
       "    </tr>\n",
       "  </tbody>\n",
       "</table>\n",
       "</div>"
      ],
      "text/plain": [
       "           count         mean       std       min         25%       50%  \\\n",
       "Year        12.0  2023.000000  0.000000  2023.000  2023.00000  2023.000   \n",
       "Age 16-19   12.0     0.278000  0.007422     0.267     0.27150     0.278   \n",
       "Age 20-24   12.0     0.660417  0.005567     0.655     0.65600     0.658   \n",
       "Age 25-34   12.0     0.816583  0.003919     0.811     0.81300     0.817   \n",
       "Age 35-44   12.0     0.818667  0.002270     0.814     0.81775     0.819   \n",
       "Age 45-54   12.0     0.801917  0.002193     0.800     0.80075     0.801   \n",
       "Age 55-64   12.0     0.653000  0.001044     0.652     0.65200     0.653   \n",
       "Age 65+     12.0     0.191000  0.002374     0.186     0.19075     0.191   \n",
       "\n",
       "                  75%       max  \n",
       "Year       2023.00000  2023.000  \n",
       "Age 16-19     0.28525     0.288  \n",
       "Age 20-24     0.66575     0.669  \n",
       "Age 25-34     0.82025     0.822  \n",
       "Age 35-44     0.82025     0.822  \n",
       "Age 45-54     0.80250     0.806  \n",
       "Age 55-64     0.65300     0.655  \n",
       "Age 65+       0.19200     0.195  "
      ]
     },
     "execution_count": 45,
     "metadata": {},
     "output_type": "execute_result"
    }
   ],
   "source": [
    "df_2023_calif.select_dtypes( exclude=\"O\").describe().T"
   ]
  },
  {
   "cell_type": "markdown",
   "metadata": {},
   "source": [
    "#gana mas quién tiene mas educacion según edad"
   ]
  },
  {
   "cell_type": "code",
   "execution_count": 46,
   "metadata": {},
   "outputs": [
    {
     "data": {
      "text/html": [
       "<div>\n",
       "<style scoped>\n",
       "    .dataframe tbody tr th:only-of-type {\n",
       "        vertical-align: middle;\n",
       "    }\n",
       "\n",
       "    .dataframe tbody tr th {\n",
       "        vertical-align: top;\n",
       "    }\n",
       "\n",
       "    .dataframe thead th {\n",
       "        text-align: right;\n",
       "    }\n",
       "</style>\n",
       "<table border=\"1\" class=\"dataframe\">\n",
       "  <thead>\n",
       "    <tr style=\"text-align: right;\">\n",
       "      <th></th>\n",
       "      <th>employeenumber</th>\n",
       "      <th>datebirth</th>\n",
       "      <th>remotework</th>\n",
       "      <th>education</th>\n",
       "      <th>gender</th>\n",
       "      <th>stockoptionlevel</th>\n",
       "      <th>percentsalaryhike</th>\n",
       "      <th>salary</th>\n",
       "      <th>monthlyincome</th>\n",
       "      <th>joblevel</th>\n",
       "      <th>jobrole</th>\n",
       "      <th>relationshipsatisfaction</th>\n",
       "      <th>environmentsatisfaction</th>\n",
       "      <th>jobsatisfaction</th>\n",
       "      <th>yearssincelastpromotion</th>\n",
       "      <th>yearswithcurrmanager</th>\n",
       "      <th>salary_from_month</th>\n",
       "      <th>age_2025</th>\n",
       "      <th>generation</th>\n",
       "    </tr>\n",
       "  </thead>\n",
       "  <tbody>\n",
       "    <tr>\n",
       "      <th>0</th>\n",
       "      <td>1</td>\n",
       "      <td>1972</td>\n",
       "      <td>yes</td>\n",
       "      <td>3</td>\n",
       "      <td>F</td>\n",
       "      <td>0</td>\n",
       "      <td>13</td>\n",
       "      <td>195370.00</td>\n",
       "      <td>16280.83</td>\n",
       "      <td>5</td>\n",
       "      <td>research_director</td>\n",
       "      <td>3</td>\n",
       "      <td>1</td>\n",
       "      <td>3</td>\n",
       "      <td>15</td>\n",
       "      <td>15</td>\n",
       "      <td>195369.96</td>\n",
       "      <td>53</td>\n",
       "      <td>Gen X</td>\n",
       "    </tr>\n",
       "    <tr>\n",
       "      <th>1</th>\n",
       "      <td>2</td>\n",
       "      <td>1971</td>\n",
       "      <td>yes</td>\n",
       "      <td>4</td>\n",
       "      <td>F</td>\n",
       "      <td>1</td>\n",
       "      <td>14</td>\n",
       "      <td>199990.00</td>\n",
       "      <td>NaN</td>\n",
       "      <td>5</td>\n",
       "      <td>manager</td>\n",
       "      <td>1</td>\n",
       "      <td>3</td>\n",
       "      <td>3</td>\n",
       "      <td>11</td>\n",
       "      <td>9</td>\n",
       "      <td>NaN</td>\n",
       "      <td>54</td>\n",
       "      <td>Gen X</td>\n",
       "    </tr>\n",
       "    <tr>\n",
       "      <th>2</th>\n",
       "      <td>3</td>\n",
       "      <td>1981</td>\n",
       "      <td>yes</td>\n",
       "      <td>2</td>\n",
       "      <td>F</td>\n",
       "      <td>0</td>\n",
       "      <td>11</td>\n",
       "      <td>192320.00</td>\n",
       "      <td>NaN</td>\n",
       "      <td>5</td>\n",
       "      <td>manager</td>\n",
       "      <td>4</td>\n",
       "      <td>3</td>\n",
       "      <td>4</td>\n",
       "      <td>11</td>\n",
       "      <td>15</td>\n",
       "      <td>NaN</td>\n",
       "      <td>44</td>\n",
       "      <td>Millennial</td>\n",
       "    </tr>\n",
       "    <tr>\n",
       "      <th>3</th>\n",
       "      <td>4</td>\n",
       "      <td>1976</td>\n",
       "      <td>no</td>\n",
       "      <td>4</td>\n",
       "      <td>M</td>\n",
       "      <td>2</td>\n",
       "      <td>19</td>\n",
       "      <td>171690.00</td>\n",
       "      <td>14307.50</td>\n",
       "      <td>4</td>\n",
       "      <td>research_director</td>\n",
       "      <td>2</td>\n",
       "      <td>1</td>\n",
       "      <td>3</td>\n",
       "      <td>5</td>\n",
       "      <td>6</td>\n",
       "      <td>171690.00</td>\n",
       "      <td>49</td>\n",
       "      <td>Gen X</td>\n",
       "    </tr>\n",
       "    <tr>\n",
       "      <th>4</th>\n",
       "      <td>5</td>\n",
       "      <td>1977</td>\n",
       "      <td>no</td>\n",
       "      <td>3</td>\n",
       "      <td>M</td>\n",
       "      <td>1</td>\n",
       "      <td>12</td>\n",
       "      <td>153407.04</td>\n",
       "      <td>12783.92</td>\n",
       "      <td>4</td>\n",
       "      <td>sales_executive</td>\n",
       "      <td>4</td>\n",
       "      <td>1</td>\n",
       "      <td>1</td>\n",
       "      <td>2</td>\n",
       "      <td>8</td>\n",
       "      <td>153407.04</td>\n",
       "      <td>48</td>\n",
       "      <td>Gen X</td>\n",
       "    </tr>\n",
       "  </tbody>\n",
       "</table>\n",
       "</div>"
      ],
      "text/plain": [
       "   employeenumber  datebirth remotework  education gender  stockoptionlevel  \\\n",
       "0               1       1972        yes          3      F                 0   \n",
       "1               2       1971        yes          4      F                 1   \n",
       "2               3       1981        yes          2      F                 0   \n",
       "3               4       1976         no          4      M                 2   \n",
       "4               5       1977         no          3      M                 1   \n",
       "\n",
       "   percentsalaryhike     salary  monthlyincome  joblevel            jobrole  \\\n",
       "0                 13  195370.00       16280.83         5  research_director   \n",
       "1                 14  199990.00            NaN         5            manager   \n",
       "2                 11  192320.00            NaN         5            manager   \n",
       "3                 19  171690.00       14307.50         4  research_director   \n",
       "4                 12  153407.04       12783.92         4    sales_executive   \n",
       "\n",
       "   relationshipsatisfaction  environmentsatisfaction  jobsatisfaction  \\\n",
       "0                         3                        1                3   \n",
       "1                         1                        3                3   \n",
       "2                         4                        3                4   \n",
       "3                         2                        1                3   \n",
       "4                         4                        1                1   \n",
       "\n",
       "   yearssincelastpromotion  yearswithcurrmanager  salary_from_month  age_2025  \\\n",
       "0                       15                    15          195369.96        53   \n",
       "1                       11                     9                NaN        54   \n",
       "2                       11                    15                NaN        44   \n",
       "3                        5                     6          171690.00        49   \n",
       "4                        2                     8          153407.04        48   \n",
       "\n",
       "   generation  \n",
       "0       Gen X  \n",
       "1       Gen X  \n",
       "2  Millennial  \n",
       "3       Gen X  \n",
       "4       Gen X  "
      ]
     },
     "execution_count": 46,
     "metadata": {},
     "output_type": "execute_result"
    }
   ],
   "source": [
    "df.head()"
   ]
  },
  {
   "cell_type": "code",
   "execution_count": 47,
   "metadata": {},
   "outputs": [
    {
     "data": {
      "text/html": [
       "<div>\n",
       "<style scoped>\n",
       "    .dataframe tbody tr th:only-of-type {\n",
       "        vertical-align: middle;\n",
       "    }\n",
       "\n",
       "    .dataframe tbody tr th {\n",
       "        vertical-align: top;\n",
       "    }\n",
       "\n",
       "    .dataframe thead th {\n",
       "        text-align: right;\n",
       "    }\n",
       "</style>\n",
       "<table border=\"1\" class=\"dataframe\">\n",
       "  <thead>\n",
       "    <tr style=\"text-align: right;\">\n",
       "      <th></th>\n",
       "      <th>salary</th>\n",
       "      <th>education</th>\n",
       "      <th>generation</th>\n",
       "    </tr>\n",
       "  </thead>\n",
       "  <tbody>\n",
       "    <tr>\n",
       "      <th>0</th>\n",
       "      <td>195370.00</td>\n",
       "      <td>3</td>\n",
       "      <td>Gen X</td>\n",
       "    </tr>\n",
       "    <tr>\n",
       "      <th>1</th>\n",
       "      <td>199990.00</td>\n",
       "      <td>4</td>\n",
       "      <td>Gen X</td>\n",
       "    </tr>\n",
       "    <tr>\n",
       "      <th>2</th>\n",
       "      <td>192320.00</td>\n",
       "      <td>2</td>\n",
       "      <td>Millennial</td>\n",
       "    </tr>\n",
       "    <tr>\n",
       "      <th>3</th>\n",
       "      <td>171690.00</td>\n",
       "      <td>4</td>\n",
       "      <td>Gen X</td>\n",
       "    </tr>\n",
       "    <tr>\n",
       "      <th>4</th>\n",
       "      <td>153407.04</td>\n",
       "      <td>3</td>\n",
       "      <td>Gen X</td>\n",
       "    </tr>\n",
       "    <tr>\n",
       "      <th>...</th>\n",
       "      <td>...</td>\n",
       "      <td>...</td>\n",
       "      <td>...</td>\n",
       "    </tr>\n",
       "    <tr>\n",
       "      <th>1609</th>\n",
       "      <td>103250.00</td>\n",
       "      <td>1</td>\n",
       "      <td>Millennial</td>\n",
       "    </tr>\n",
       "    <tr>\n",
       "      <th>1610</th>\n",
       "      <td>44470.00</td>\n",
       "      <td>2</td>\n",
       "      <td>Gen X</td>\n",
       "    </tr>\n",
       "    <tr>\n",
       "      <th>1611</th>\n",
       "      <td>100071.84</td>\n",
       "      <td>5</td>\n",
       "      <td>Millennial</td>\n",
       "    </tr>\n",
       "    <tr>\n",
       "      <th>1612</th>\n",
       "      <td>53914.11</td>\n",
       "      <td>4</td>\n",
       "      <td>Millennial</td>\n",
       "    </tr>\n",
       "    <tr>\n",
       "      <th>1613</th>\n",
       "      <td>108450.00</td>\n",
       "      <td>2</td>\n",
       "      <td>Gen X</td>\n",
       "    </tr>\n",
       "  </tbody>\n",
       "</table>\n",
       "<p>1614 rows × 3 columns</p>\n",
       "</div>"
      ],
      "text/plain": [
       "         salary  education  generation\n",
       "0     195370.00          3       Gen X\n",
       "1     199990.00          4       Gen X\n",
       "2     192320.00          2  Millennial\n",
       "3     171690.00          4       Gen X\n",
       "4     153407.04          3       Gen X\n",
       "...         ...        ...         ...\n",
       "1609  103250.00          1  Millennial\n",
       "1610   44470.00          2       Gen X\n",
       "1611  100071.84          5  Millennial\n",
       "1612   53914.11          4  Millennial\n",
       "1613  108450.00          2       Gen X\n",
       "\n",
       "[1614 rows x 3 columns]"
      ]
     },
     "execution_count": 47,
     "metadata": {},
     "output_type": "execute_result"
    }
   ],
   "source": [
    "df[[\"salary\",\"education\",\"generation\"]]"
   ]
  },
  {
   "cell_type": "markdown",
   "metadata": {},
   "source": [
    "HS\n",
    "Associate’s\n",
    "Bachelor’s\n",
    "Master’s\n",
    "Doctorate’s"
   ]
  },
  {
   "cell_type": "code",
   "execution_count": 48,
   "metadata": {},
   "outputs": [],
   "source": [
    "df[\"education\"]=pd.cut(df[\"education\"], bins=5, labels=[\"HS\", \"Associate’s\",\"Bachelor’s\",\"Master’s\",\"Doctorate’s\"])"
   ]
  },
  {
   "cell_type": "code",
   "execution_count": 49,
   "metadata": {},
   "outputs": [
    {
     "data": {
      "image/png": "[encoded data removed]",
      "text/plain": [
       "<Figure size 640x480 with 1 Axes>"
      ]
     },
     "metadata": {},
     "output_type": "display_data"
    }
   ],
   "source": [
    "sns.barplot(x=\"education\",y= clean_salary,data=df,errorbar=None);"
   ]
  },
  {
   "cell_type": "code",
   "execution_count": 50,
   "metadata": {},
   "outputs": [
    {
     "data": {
      "image/png": "[encoded data removed]",
      "text/plain": [
       "<Figure size 640x480 with 1 Axes>"
      ]
     },
     "metadata": {},
     "output_type": "display_data"
    }
   ],
   "source": [
    "sns.barplot(x=\"generation\",y= clean_salary, hue=\"education\",data=df,errorbar=None);"
   ]
  },
  {
   "cell_type": "code",
   "execution_count": 51,
   "metadata": {},
   "outputs": [
    {
     "data": {
      "image/png": "[encoded data removed]",
      "text/plain": [
       "<Figure size 600x500 with 1 Axes>"
      ]
     },
     "metadata": {},
     "output_type": "display_data"
    }
   ],
   "source": [
    "# Contar las ocurrencias de las combinaciones de 'categoria' y 'subcategoria'\n",
    "count_data = pd.crosstab(df['education'], df['generation'])\n",
    "\n",
    "# Crear la figura\n",
    "fig, ax = plt.subplots(figsize=(6, 5))\n",
    "\n",
    "# Apilar las barras usando plt.bar con bottom acumulado\n",
    "bottom = np.zeros(len(count_data))  # Base inicial para cada categoría\n",
    "colores = sns.color_palette(\"Set2\", len(count_data.columns))  # Colores para cada subcategoría\n",
    "\n",
    "# Para cada subcategoría, apilamos las barras\n",
    "for i, col in enumerate(count_data.columns):\n",
    "    ax.bar(count_data.index, count_data[col], bottom=bottom, color=colores[i], label=col)\n",
    "    bottom += count_data[col]  # Acumulamos para la siguiente parte de la barra\n",
    "\n",
    "# Agregar etiquetas y leyenda\n",
    "ax.set_ylabel(\"Frecuencia\")\n",
    "ax.set_title(\"Generación por educación\")\n",
    "ax.legend(title=\"Generation\")\n",
    "\n",
    "plt.show()"
   ]
  },
  {
   "cell_type": "code",
   "execution_count": 52,
   "metadata": {},
   "outputs": [
    {
     "data": {
      "image/png": "[encoded data removed]",
      "text/plain": [
       "<Figure size 600x500 with 1 Axes>"
      ]
     },
     "metadata": {},
     "output_type": "display_data"
    }
   ],
   "source": [
    "# Contar las ocurrencias de las combinaciones de 'categoria' y 'subcategoria'\n",
    "count_data = pd.crosstab(df['generation'], df['education'])\n",
    "\n",
    "# Crear la figura\n",
    "fig, ax = plt.subplots(figsize=(6, 5))\n",
    "\n",
    "# Apilar las barras usando plt.bar con bottom acumulado\n",
    "bottom = np.zeros(len(count_data))  # Base inicial para cada categoría\n",
    "colores = sns.color_palette(\"Set2\", len(count_data.columns))  # Colores para cada subcategoría\n",
    "\n",
    "# Para cada subcategoría, apilamos las barras\n",
    "for i, col in enumerate(count_data.columns):\n",
    "    ax.bar(count_data.index, count_data[col], bottom=bottom, color=colores[i], label=col)\n",
    "    bottom += count_data[col]  # Acumulamos para la siguiente parte de la barra\n",
    "\n",
    "# Agregar etiquetas y leyenda\n",
    "ax.set_ylabel(\"Frecuencia\")\n",
    "ax.set_title(\"Educación para cada generación\")\n",
    "ax.legend(title=\"Education\")\n",
    "\n",
    "plt.show()"
   ]
  },
  {
   "cell_type": "code",
   "execution_count": 53,
   "metadata": {},
   "outputs": [
    {
     "data": {
      "image/png": "[encoded data removed]",
      "text/plain": [
       "<Figure size 640x480 with 1 Axes>"
      ]
     },
     "metadata": {},
     "output_type": "display_data"
    }
   ],
   "source": [
    "sns.barplot(x=\"generation\",y= clean_salary,data=df,errorbar=None);"
   ]
  },
  {
   "cell_type": "markdown",
   "metadata": {},
   "source": [
    "Las personas con doctorado reciben más salario, menos en GenZ. \n",
    "\n",
    "Entre generaciones, cobran más los de la GenX, seguidos de los Millennial. Los que menos cobran son la GenZ (considerar la falta de experiencia). \n",
    "\n",
    "En proporción, se invierte más (en proporción) en capital humano en Millenials. Teniendo en cuenta que los Millenials representan una mayoría en la problación activa, quizás la empresa podría enfocarse en \"contentar\" a este grupo."
   ]
  },
  {
   "cell_type": "code",
   "execution_count": null,
   "metadata": {},
   "outputs": [
    {
     "data": {
      "text/plain": [
       "<Axes: xlabel='count', ylabel='jobrole'>"
      ]
     },
     "execution_count": 89,
     "metadata": {},
     "output_type": "execute_result"
    },
    {
     "data": {
      "image/png": "[encoded data removed]",
      "text/plain": [
       "<Figure size 640x480 with 1 Axes>"
      ]
     },
     "metadata": {},
     "output_type": "display_data"
    }
   ],
   "source": [
    "# Gráfico principal\n",
    "sns.countplot(\n",
    "    y=\"jobrole\",\n",
    "    data=df,\n",
    "    palette=\"Accent\",\n",
    "    hue=\"generation\",\n",
    "    )"
   ]
  },
  {
   "cell_type": "markdown",
   "metadata": {},
   "source": [
    "baby boomers solo son managers y sales exec y manufacturing directors, mientras que Millenials se esparcen en todos los job roles. Gen Z, al ser generacion mas joven, no tiene la expeiencia suficiente para ser research director, pero estan presente en el resto de los roles. la reparticion de Gen X se ve mas equitativa en todos lo roles y tiene mas presencia en research director. \n",
    "\n",
    "oportunidades de promocion y capacitacion para Millenials y Gen Z"
   ]
  },
  {
   "cell_type": "code",
   "execution_count": null,
   "metadata": {},
   "outputs": [
    {
     "data": {
      "image/png": "[encoded data removed]",
      "text/plain": [
       "<Figure size 640x480 with 1 Axes>"
      ]
     },
     "metadata": {},
     "output_type": "display_data"
    }
   ],
   "source": [
    "sns.barplot(x= clean_salary, y='jobrole', data=df, palette='viridis',errorbar=None)\n",
    "plt.title(\"Comparación entre el rol y el salario\")\n",
    "plt.show();\n"
   ]
  },
  {
   "cell_type": "markdown",
   "metadata": {},
   "source": [
    "research director y manager son las cargos que mas ganan. (pendiente con comparar con edades y genero) "
   ]
  },
  {
   "cell_type": "code",
   "execution_count": 68,
   "metadata": {},
   "outputs": [],
   "source": [
    "from mpl_toolkits.axes_grid1.inset_locator import inset_axes"
   ]
  },
  {
   "cell_type": "code",
   "execution_count": 76,
   "metadata": {},
   "outputs": [
    {
     "data": {
      "image/png": "[encoded data removed]",
      "text/plain": [
       "<Figure size 1000x600 with 2 Axes>"
      ]
     },
     "metadata": {},
     "output_type": "display_data"
    }
   ],
   "source": [
    "# Figura principal\n",
    "fig, ax = plt.subplots(figsize=(10, 6))\n",
    "\n",
    "# Gráfico principal\n",
    "sns.countplot(\n",
    "    x=\"generation\",\n",
    "    data=df,\n",
    "    palette=\"Accent\",\n",
    "    hue=\"joblevel\",\n",
    "    ax=ax\n",
    ")\n",
    "ax.set_title(\"Distribución de Job Level por Generación\", fontsize=14)\n",
    "ax.tick_params(axis='x', rotation=45)\n",
    "\n",
    "# Gráfico insertado (zoom)\n",
    "axins = inset_axes(ax, width=\"40%\", height=\"40%\", loc='upper right')\n",
    "\n",
    "# Escogemos generaciones poco representadas (puedes adaptar esto según tus datos)\n",
    "low_gen = df['generation'].value_counts().nsmallest(1).index\n",
    "df_low_gen = df[df['generation'].isin(low_gen)]\n",
    "\n",
    "sns.countplot(\n",
    "    x=\"generation\",\n",
    "    data=df_low_gen,\n",
    "    hue=\"joblevel\",\n",
    "    palette=\"Accent\",\n",
    "    ax=axins\n",
    ")\n",
    "axins.tick_params(axis='x')\n",
    "axins.legend_.remove()  # opcional: eliminar la leyenda duplicada\n",
    "\n",
    "# Mover la leyenda fuera del gráfico principal si quieres\n",
    "ax.legend(title=\"Job Level\", bbox_to_anchor=(1.05, 1), loc='upper left')\n",
    "\n",
    "plt.tight_layout()\n",
    "plt.show()"
   ]
  },
  {
   "cell_type": "markdown",
   "metadata": {},
   "source": [
    "Gen X tiene el nivel de puesto promedio más alto, seguido de cerca por los Baby Boomers.\n",
    "Millennials tienen un nivel de puesto más bajo que Gen X y Baby Boomers, pero superior a Gen Z, que presenta el nivel más bajo.\n",
    "Si el objetivo de la empresa es fomentar la retención y el crecimiento profesional de los empleados jóvenes, podría ser útil analizar oportunidades de promoción y capacitación para Millennials y Gen Z"
   ]
  },
  {
   "cell_type": "markdown",
   "metadata": {},
   "source": [
    "Gen X y Baby Boomers tienen los niveles de puesto más altos en promedio.\n",
    "\n",
    "Esto sugiere que las generaciones más antiguas ocupan roles más altos, lo que es esperable dado que han tenido más tiempo para avanzar en su carrera.\n",
    "La presencia de valores atípicos sugiere que algunos empleados jóvenes han alcanzado niveles altos, pero son pocos casos.\n",
    "La jerarquía de puestos sigue una estructura esperada basada en la experiencia.\n",
    "\n",
    "La movilidad hacia niveles altos parece ser más común en generaciones mayores.\n",
    "\n",
    "Podría ser interesante investigar si los Millennials y Gen Z enfrentan barreras para la promoción."
   ]
  },
  {
   "cell_type": "code",
   "execution_count": 90,
   "metadata": {},
   "outputs": [
    {
     "data": {
      "image/png": "[encoded data removed]",
      "text/plain": [
       "<Figure size 640x480 with 1 Axes>"
      ]
     },
     "metadata": {},
     "output_type": "display_data"
    }
   ],
   "source": [
    "sns.barplot(x='generation', y='jobsatisfaction', data=df, palette='viridis',errorbar=None)\n",
    "plt.title(\"Comparación entre generacion y satisfaccion en el trabajo\")\n",
    "plt.show();\n"
   ]
  },
  {
   "cell_type": "code",
   "execution_count": null,
   "metadata": {},
   "outputs": [
    {
     "data": {
      "image/png": "[encoded data removed]",
      "text/plain": [
       "<Figure size 1200x500 with 2 Axes>"
      ]
     },
     "metadata": {},
     "output_type": "display_data"
    }
   ],
   "source": [
    "# Crear una figura con dos subgráficos\n",
    "fig, axes = plt.subplots(1, 2, figsize=(12, 5))\n",
    "\n",
    "# Primer gráfico: Barplot comparando 'generation' y 'joblevel'\n",
    "sns.barplot(x=df['generation'], y=df[\"jobsatisfaction\"], ax=axes[0], color='firebrick',errorbar=None)\n",
    "axes[0].set_title(\"Comparación satisfaccion en el trabajo por generación\")\n",
    "\n",
    "# Segundo gráfico: Boxplot comparando 'generation' y 'joblevel'\n",
    "sns.barplot(x=df['generation'], y=df['relationshipsatisfaction'] ax=axes[1], color='deeppink',errorbar=None)\n",
    "axes[1].set_title(\"Comparación nivel satisfaccion relaciones en el trabajo por generación\")\n",
    "\n",
    "# Mostrar los gráficos\n",
    "plt.tight_layout()\n",
    "plt.show()\n"
   ]
  },
  {
   "cell_type": "markdown",
   "metadata": {},
   "source": [
    "No se observa una gran disparidad entre generaciones, lo que indica que la satisfacción laboral es relativamente estable entre todos los grupos.\n"
   ]
  },
  {
   "cell_type": "code",
   "execution_count": 99,
   "metadata": {},
   "outputs": [
    {
     "data": {
      "image/png": "[encoded data removed]",
      "text/plain": [
       "<Figure size 640x480 with 1 Axes>"
      ]
     },
     "metadata": {},
     "output_type": "display_data"
    }
   ],
   "source": [
    "sns.boxplot(x=df['environmentsatisfaction'][df['environmentsatisfaction']<= 4],data= df, color='deeppink')\n",
    "plt.title(\"satisfaccion con el ambiente laboral\");"
   ]
  },
  {
   "cell_type": "markdown",
   "metadata": {},
   "source": [
    "👆 se filtra la escala de satisfaccion en el ambiente porque por encima de 4 era un aprox de 7% de los empleados"
   ]
  },
  {
   "cell_type": "code",
   "execution_count": 100,
   "metadata": {},
   "outputs": [],
   "source": [
    "clean_en_sat = df['environmentsatisfaction'][df['environmentsatisfaction']<= 4]"
   ]
  },
  {
   "cell_type": "code",
   "execution_count": 104,
   "metadata": {},
   "outputs": [
    {
     "data": {
      "image/png": "[encoded data removed]",
      "text/plain": [
       "<Figure size 1000x600 with 2 Axes>"
      ]
     },
     "metadata": {},
     "output_type": "display_data"
    }
   ],
   "source": [
    "# Figura principal\n",
    "fig, ax = plt.subplots(figsize=(10, 6))\n",
    "\n",
    "# Gráfico principal\n",
    "sns.countplot(\n",
    "    x=\"generation\",\n",
    "    data=df,\n",
    "    palette=\"Accent\",\n",
    "    hue= clean_en_sat,\n",
    "    ax=ax\n",
    ")\n",
    "ax.set_title(\"Distribución de Satisfacción Ambiental por Generación\", fontsize=14)\n",
    "ax.tick_params(axis='x', rotation=45)\n",
    "\n",
    "# Gráfico insertado (zoom)\n",
    "axins = inset_axes(ax, width=\"40%\", height=\"40%\", loc='upper right')\n",
    "\n",
    "# Escogemos generaciones poco representadas (puedes adaptar esto según tus datos)\n",
    "low_gen = df['generation'].value_counts().nsmallest(1).index\n",
    "df_low_gen = df[df['generation'].isin(low_gen)]\n",
    "\n",
    "sns.countplot(\n",
    "    x=\"generation\",\n",
    "    data=df_low_gen,\n",
    "    hue= clean_en_sat,\n",
    "    palette=\"Accent\",\n",
    "    ax=axins\n",
    ")\n",
    "axins.tick_params(axis='x')\n",
    "axins.legend_.remove()  # opcional: eliminar la leyenda duplicada\n",
    "\n",
    "# Mover la leyenda fuera del gráfico principal si quieres\n",
    "ax.legend(title=\"Satisfacción Ambiental\", bbox_to_anchor=(1.05, 1), loc='upper left')\n",
    "\n",
    "plt.tight_layout()\n",
    "plt.show()"
   ]
  },
  {
   "cell_type": "markdown",
   "metadata": {},
   "source": [
    "👆 los baby boomers no estan contentos pero los millenials si. Gen X está polarizado entre menos satisfechos y más satisfechos "
   ]
  },
  {
   "cell_type": "code",
   "execution_count": 110,
   "metadata": {},
   "outputs": [
    {
     "data": {
      "image/png": "[encoded data removed]",
      "text/plain": [
       "<Figure size 1000x600 with 2 Axes>"
      ]
     },
     "metadata": {},
     "output_type": "display_data"
    }
   ],
   "source": [
    "# Figura principal\n",
    "fig, ax = plt.subplots(figsize=(10, 6))\n",
    "\n",
    "# Gráfico principal\n",
    "sns.countplot(\n",
    "    x=\"generation\",\n",
    "    data=df,\n",
    "    palette=\"Accent\",\n",
    "    hue= \"jobsatisfaction\",\n",
    "    ax=ax\n",
    ")\n",
    "ax.set_title(\"Distribución de Satisfacción General por Generación\", fontsize=14)\n",
    "ax.tick_params(axis='x', rotation=45)\n",
    "\n",
    "# Gráfico insertado (zoom)\n",
    "axins = inset_axes(ax, width=\"40%\", height=\"40%\", loc='upper right')\n",
    "\n",
    "# Escogemos generaciones poco representadas (puedes adaptar esto según tus datos)\n",
    "low_gen = df['generation'].value_counts().nsmallest(1).index\n",
    "df_low_gen = df[df['generation'].isin(low_gen)]\n",
    "\n",
    "sns.countplot(\n",
    "    x=\"generation\",\n",
    "    data=df_low_gen,\n",
    "    hue= \"jobsatisfaction\",\n",
    "    palette = [(0.498, 0.788, 0.498),(0.992, 0.753, 0.525),(1.000, 1.000, 0.600)],\n",
    "    ax=axins\n",
    ")\n",
    "axins.tick_params(axis='x')\n",
    "axins.legend_.remove()  # opcional: eliminar la leyenda duplicada\n",
    "\n",
    "# Mover la leyenda fuera del gráfico principal si quieres\n",
    "ax.legend(title=\"Satisfacción Ambiental\", bbox_to_anchor=(1.05, 1), loc='upper left')\n",
    "\n",
    "plt.tight_layout()\n",
    "plt.show()\n",
    "\n"
   ]
  },
  {
   "cell_type": "markdown",
   "metadata": {},
   "source": [
    "👆 la satisfaccion general es buena "
   ]
  },
  {
   "cell_type": "code",
   "execution_count": 111,
   "metadata": {},
   "outputs": [
    {
     "data": {
      "image/png": "[encoded data removed]",
      "text/plain": [
       "<Figure size 1000x600 with 2 Axes>"
      ]
     },
     "metadata": {},
     "output_type": "display_data"
    }
   ],
   "source": [
    "# Figura principal\n",
    "fig, ax = plt.subplots(figsize=(10, 6))\n",
    "\n",
    "# Gráfico principal\n",
    "sns.countplot(\n",
    "    x=\"generation\",\n",
    "    data=df,\n",
    "    palette=\"Accent\",\n",
    "    hue= \"relationshipsatisfaction\",\n",
    "    ax=ax\n",
    ")\n",
    "ax.set_title(\"Distribución de Satisfacción de Relaciones Interpersonales por Generación\", fontsize=14)\n",
    "ax.tick_params(axis='x', rotation=45)\n",
    "\n",
    "# Gráfico insertado (zoom)\n",
    "axins = inset_axes(ax, width=\"40%\", height=\"40%\", loc='upper right')\n",
    "\n",
    "# Escogemos generaciones poco representadas (puedes adaptar esto según tus datos)\n",
    "low_gen = df['generation'].value_counts().nsmallest(1).index\n",
    "df_low_gen = df[df['generation'].isin(low_gen)]\n",
    "\n",
    "sns.countplot(\n",
    "    x=\"generation\",\n",
    "    data=df_low_gen,\n",
    "    hue= \"relationshipsatisfaction\",\n",
    "    palette = \"Accent\",\n",
    "    ax=axins\n",
    ")\n",
    "axins.tick_params(axis='x')\n",
    "axins.legend_.remove()  # opcional: eliminar la leyenda duplicada\n",
    "\n",
    "# Mover la leyenda fuera del gráfico principal si quieres\n",
    "ax.legend(title=\"Satisfacción Ambiental\", bbox_to_anchor=(1.05, 1), loc='upper left')\n",
    "\n",
    "plt.tight_layout()\n",
    "plt.show()\n",
    "\n"
   ]
  },
  {
   "cell_type": "markdown",
   "metadata": {},
   "source": [
    "👆 en general la satisfaccion de relaciones interpersonales se encuentra entre niveles 3 y 4; es decir, buena  "
   ]
  },
  {
   "cell_type": "code",
   "execution_count": 116,
   "metadata": {},
   "outputs": [
    {
     "data": {
      "image/png": "[encoded data removed]",
      "text/plain": [
       "<Figure size 500x500 with 1 Axes>"
      ]
     },
     "metadata": {},
     "output_type": "display_data"
    }
   ],
   "source": [
    "sns.lmplot(y= \"salary\", x='jobsatisfaction', data=df, x_estimator= np.mean)#convertir las columnas de satisfaccion a categóricas, gráficas poco claras\n",
    "plt.title(\"Relación entre Variable X e Y\")\n",
    "plt.show()"
   ]
  },
  {
   "cell_type": "markdown",
   "metadata": {},
   "source": [
    "👆 no hay realcion entre la satisfaccion general  y el nivel de salario. parece que los empleados valoran otras cosas como relaciones y el ambiente "
   ]
  },
  {
   "cell_type": "code",
   "execution_count": 117,
   "metadata": {},
   "outputs": [
    {
     "data": {
      "image/png": "[encoded data removed]",
      "text/plain": [
       "<Figure size 500x500 with 1 Axes>"
      ]
     },
     "metadata": {},
     "output_type": "display_data"
    }
   ],
   "source": [
    "sns.lmplot(y= \"salary\", x='relationshipsatisfaction', data=df, x_estimator= np.mean)#convertir las columnas de satisfaccion a categóricas, gráficas poco claras\n",
    "plt.title(\"Relación entre Variable X e Y\")\n",
    "plt.show()"
   ]
  },
  {
   "cell_type": "code",
   "execution_count": 120,
   "metadata": {},
   "outputs": [
    {
     "data": {
      "text/html": [
       "<div>\n",
       "<style scoped>\n",
       "    .dataframe tbody tr th:only-of-type {\n",
       "        vertical-align: middle;\n",
       "    }\n",
       "\n",
       "    .dataframe tbody tr th {\n",
       "        vertical-align: top;\n",
       "    }\n",
       "\n",
       "    .dataframe thead th {\n",
       "        text-align: right;\n",
       "    }\n",
       "</style>\n",
       "<table border=\"1\" class=\"dataframe\">\n",
       "  <thead>\n",
       "    <tr style=\"text-align: right;\">\n",
       "      <th></th>\n",
       "      <th>salary</th>\n",
       "      <th>relationshipsatisfaction</th>\n",
       "    </tr>\n",
       "  </thead>\n",
       "  <tbody>\n",
       "    <tr>\n",
       "      <th>salary</th>\n",
       "      <td>1.00000</td>\n",
       "      <td>0.00341</td>\n",
       "    </tr>\n",
       "    <tr>\n",
       "      <th>relationshipsatisfaction</th>\n",
       "      <td>0.00341</td>\n",
       "      <td>1.00000</td>\n",
       "    </tr>\n",
       "  </tbody>\n",
       "</table>\n",
       "</div>"
      ],
      "text/plain": [
       "                           salary  relationshipsatisfaction\n",
       "salary                    1.00000                   0.00341\n",
       "relationshipsatisfaction  0.00341                   1.00000"
      ]
     },
     "execution_count": 120,
     "metadata": {},
     "output_type": "execute_result"
    }
   ],
   "source": [
    "df[['salary', 'relationshipsatisfaction']].corr(method='kendall')\n"
   ]
  },
  {
   "cell_type": "markdown",
   "metadata": {},
   "source": [
    " 👆 no hay relacion entre la satisfaccion entre relaciones interpersonales en el trabajo y el salario."
   ]
  },
  {
   "cell_type": "code",
   "execution_count": 123,
   "metadata": {},
   "outputs": [],
   "source": [
    "df_filtrado_env = df[df['environmentsatisfaction']<= 4]"
   ]
  },
  {
   "cell_type": "code",
   "execution_count": 124,
   "metadata": {},
   "outputs": [
    {
     "data": {
      "image/png": "[encoded data removed]",
      "text/plain": [
       "<Figure size 500x500 with 1 Axes>"
      ]
     },
     "metadata": {},
     "output_type": "display_data"
    }
   ],
   "source": [
    "sns.lmplot(y= \"salary\", x= \"environmentsatisfaction\", data=df_filtrado_env, x_estimator= np.mean)#convertir las columnas de satisfaccion a categóricas, gráficas poco claras\n",
    "plt.title(\"Relación entre Variable X e Y\")\n",
    "plt.show()"
   ]
  },
  {
   "cell_type": "markdown",
   "metadata": {},
   "source": [
    "👆 no hay relacion entre la satisfaccion ambiental y el nivel salario "
   ]
  },
  {
   "cell_type": "code",
   "execution_count": 127,
   "metadata": {},
   "outputs": [
    {
     "data": {
      "text/plain": [
       "<Axes: xlabel='count', ylabel='jobrole'>"
      ]
     },
     "execution_count": 127,
     "metadata": {},
     "output_type": "execute_result"
    },
    {
     "data": {
      "image/png": "[encoded data removed]",
      "text/plain": [
       "<Figure size 640x480 with 1 Axes>"
      ]
     },
     "metadata": {},
     "output_type": "display_data"
    }
   ],
   "source": [
    "sns.countplot(\n",
    "    y=\"jobrole\",\n",
    "    data=df,\n",
    "    palette=\"Accent\",\n",
    "    hue= \"jobsatisfaction\"\n",
    ")"
   ]
  },
  {
   "cell_type": "markdown",
   "metadata": {},
   "source": [
    "👆sales execs y laboratory techs son los menos satisfechos. Human resources tambien presente insatisfacción "
   ]
  }
 ],
 "metadata": {
  "kernelspec": {
   "display_name": "Python 3",
   "language": "python",
   "name": "python3"
  },
  "language_info": {
   "codemirror_mode": {
    "name": "ipython",
    "version": 3
   },
   "file_extension": ".py",
   "mimetype": "text/x-python",
   "name": "python",
   "nbconvert_exporter": "python",
   "pygments_lexer": "ipython3",
   "version": "3.9.6"
  }
 },
 "nbformat": 4,
 "nbformat_minor": 2
}
